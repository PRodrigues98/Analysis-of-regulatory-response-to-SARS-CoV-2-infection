{
 "cells": [
  {
   "cell_type": "code",
   "execution_count": 1,
   "metadata": {},
   "outputs": [],
   "source": [
    "import dataInterpreter as dt\n",
    "import numpy as np\n",
    "import matplotlib.pyplot as plt\n",
    "import pandas as pd\n",
    "pd.options.mode.chained_assignment = None  # default='warn'\n",
    "import scipy.cluster.hierarchy as sch\n",
    "from sklearn.cluster import AgglomerativeClustering \n",
    "from scipy.cluster.hierarchy import linkage, fcluster\n",
    "from scipy.spatial.distance import squareform\n",
    "from sklearn.metrics import adjusted_rand_score"
   ]
  },
  {
   "cell_type": "code",
   "execution_count": 19,
   "metadata": {},
   "outputs": [
    {
     "data": {
      "text/html": [
       "<div>\n",
       "<style scoped>\n",
       "    .dataframe tbody tr th:only-of-type {\n",
       "        vertical-align: middle;\n",
       "    }\n",
       "\n",
       "    .dataframe tbody tr th {\n",
       "        vertical-align: top;\n",
       "    }\n",
       "\n",
       "    .dataframe thead th {\n",
       "        text-align: right;\n",
       "    }\n",
       "</style>\n",
       "<table border=\"1\" class=\"dataframe\">\n",
       "  <thead>\n",
       "    <tr style=\"text-align: right;\">\n",
       "      <th></th>\n",
       "      <th>Series6_A549-ACE2_Mock_1</th>\n",
       "      <th>Series6_A549-ACE2_Mock_2</th>\n",
       "      <th>Series6_A549-ACE2_Mock_3</th>\n",
       "      <th>Series16_A549-ACE2_Mock_1</th>\n",
       "      <th>Series16_A549-ACE2_Mock_2</th>\n",
       "      <th>Series16_A549-ACE2_Mock_3</th>\n",
       "      <th>Series6_A549-ACE2_SARS-CoV-2_1</th>\n",
       "      <th>Series6_A549-ACE2_SARS-CoV-2_2</th>\n",
       "      <th>Series6_A549-ACE2_SARS-CoV-2_3</th>\n",
       "      <th>Series16_A549-ACE2_SARS-CoV-2_1</th>\n",
       "      <th>Series16_A549-ACE2_SARS-CoV-2_2</th>\n",
       "      <th>Series16_A549-ACE2_SARS-CoV-2_3</th>\n",
       "      <th>p-value</th>\n",
       "    </tr>\n",
       "  </thead>\n",
       "  <tbody>\n",
       "    <tr>\n",
       "      <th>LINC00115</th>\n",
       "      <td>3.806662</td>\n",
       "      <td>1.386294</td>\n",
       "      <td>3.367296</td>\n",
       "      <td>1.098612</td>\n",
       "      <td>2.708050</td>\n",
       "      <td>2.197225</td>\n",
       "      <td>4.663439</td>\n",
       "      <td>3.218876</td>\n",
       "      <td>2.772589</td>\n",
       "      <td>3.828641</td>\n",
       "      <td>4.158883</td>\n",
       "      <td>4.330733</td>\n",
       "      <td>0.023795</td>\n",
       "    </tr>\n",
       "    <tr>\n",
       "      <th>NOC2L</th>\n",
       "      <td>7.636752</td>\n",
       "      <td>5.257495</td>\n",
       "      <td>7.356918</td>\n",
       "      <td>5.075174</td>\n",
       "      <td>6.688355</td>\n",
       "      <td>6.385194</td>\n",
       "      <td>5.910797</td>\n",
       "      <td>4.744932</td>\n",
       "      <td>4.442651</td>\n",
       "      <td>4.672829</td>\n",
       "      <td>4.595120</td>\n",
       "      <td>4.644391</td>\n",
       "      <td>0.008976</td>\n",
       "    </tr>\n",
       "    <tr>\n",
       "      <th>MIR429</th>\n",
       "      <td>0.000000</td>\n",
       "      <td>0.000000</td>\n",
       "      <td>0.000000</td>\n",
       "      <td>0.000000</td>\n",
       "      <td>0.000000</td>\n",
       "      <td>0.000000</td>\n",
       "      <td>0.000000</td>\n",
       "      <td>0.693147</td>\n",
       "      <td>0.693147</td>\n",
       "      <td>0.693147</td>\n",
       "      <td>0.000000</td>\n",
       "      <td>0.000000</td>\n",
       "      <td>0.049332</td>\n",
       "    </tr>\n",
       "    <tr>\n",
       "      <th>SDF4</th>\n",
       "      <td>7.770223</td>\n",
       "      <td>5.424950</td>\n",
       "      <td>7.461066</td>\n",
       "      <td>5.648974</td>\n",
       "      <td>7.132498</td>\n",
       "      <td>6.785588</td>\n",
       "      <td>6.045005</td>\n",
       "      <td>5.147494</td>\n",
       "      <td>4.787492</td>\n",
       "      <td>5.463832</td>\n",
       "      <td>5.455321</td>\n",
       "      <td>5.342334</td>\n",
       "      <td>0.011175</td>\n",
       "    </tr>\n",
       "    <tr>\n",
       "      <th>ACAP3</th>\n",
       "      <td>6.568078</td>\n",
       "      <td>4.143135</td>\n",
       "      <td>6.329721</td>\n",
       "      <td>3.526361</td>\n",
       "      <td>5.056246</td>\n",
       "      <td>4.779123</td>\n",
       "      <td>4.983607</td>\n",
       "      <td>3.850148</td>\n",
       "      <td>3.091042</td>\n",
       "      <td>3.583519</td>\n",
       "      <td>3.610918</td>\n",
       "      <td>3.583519</td>\n",
       "      <td>0.042887</td>\n",
       "    </tr>\n",
       "    <tr>\n",
       "      <th>...</th>\n",
       "      <td>...</td>\n",
       "      <td>...</td>\n",
       "      <td>...</td>\n",
       "      <td>...</td>\n",
       "      <td>...</td>\n",
       "      <td>...</td>\n",
       "      <td>...</td>\n",
       "      <td>...</td>\n",
       "      <td>...</td>\n",
       "      <td>...</td>\n",
       "      <td>...</td>\n",
       "      <td>...</td>\n",
       "      <td>...</td>\n",
       "    </tr>\n",
       "    <tr>\n",
       "      <th>F8A1</th>\n",
       "      <td>5.257495</td>\n",
       "      <td>2.484907</td>\n",
       "      <td>5.099866</td>\n",
       "      <td>3.737670</td>\n",
       "      <td>4.820282</td>\n",
       "      <td>4.499810</td>\n",
       "      <td>3.367296</td>\n",
       "      <td>2.890372</td>\n",
       "      <td>2.772589</td>\n",
       "      <td>3.401197</td>\n",
       "      <td>2.995732</td>\n",
       "      <td>3.135494</td>\n",
       "      <td>0.019422</td>\n",
       "    </tr>\n",
       "    <tr>\n",
       "      <th>FUNDC2</th>\n",
       "      <td>6.590301</td>\n",
       "      <td>3.951244</td>\n",
       "      <td>6.135565</td>\n",
       "      <td>4.990433</td>\n",
       "      <td>6.313548</td>\n",
       "      <td>6.276643</td>\n",
       "      <td>4.820282</td>\n",
       "      <td>3.433987</td>\n",
       "      <td>3.465736</td>\n",
       "      <td>4.927254</td>\n",
       "      <td>4.852030</td>\n",
       "      <td>4.859812</td>\n",
       "      <td>0.028337</td>\n",
       "    </tr>\n",
       "    <tr>\n",
       "      <th>MTCP1</th>\n",
       "      <td>4.682131</td>\n",
       "      <td>2.079442</td>\n",
       "      <td>4.343805</td>\n",
       "      <td>3.135494</td>\n",
       "      <td>4.430817</td>\n",
       "      <td>4.369448</td>\n",
       "      <td>3.135494</td>\n",
       "      <td>2.079442</td>\n",
       "      <td>2.397895</td>\n",
       "      <td>3.091042</td>\n",
       "      <td>2.397895</td>\n",
       "      <td>3.295837</td>\n",
       "      <td>0.038054</td>\n",
       "    </tr>\n",
       "    <tr>\n",
       "      <th>BRCC3</th>\n",
       "      <td>6.938284</td>\n",
       "      <td>4.605170</td>\n",
       "      <td>6.400257</td>\n",
       "      <td>5.123964</td>\n",
       "      <td>6.889591</td>\n",
       "      <td>6.513230</td>\n",
       "      <td>5.043425</td>\n",
       "      <td>4.094345</td>\n",
       "      <td>4.043051</td>\n",
       "      <td>4.962845</td>\n",
       "      <td>4.962845</td>\n",
       "      <td>5.030438</td>\n",
       "      <td>0.010822</td>\n",
       "    </tr>\n",
       "    <tr>\n",
       "      <th>CD24</th>\n",
       "      <td>9.456497</td>\n",
       "      <td>7.244228</td>\n",
       "      <td>9.115810</td>\n",
       "      <td>7.430707</td>\n",
       "      <td>8.865029</td>\n",
       "      <td>8.849944</td>\n",
       "      <td>7.799753</td>\n",
       "      <td>6.598509</td>\n",
       "      <td>6.532334</td>\n",
       "      <td>6.675823</td>\n",
       "      <td>6.516193</td>\n",
       "      <td>6.347389</td>\n",
       "      <td>0.002421</td>\n",
       "    </tr>\n",
       "  </tbody>\n",
       "</table>\n",
       "<p>5641 rows × 13 columns</p>\n",
       "</div>"
      ],
      "text/plain": [
       "           Series6_A549-ACE2_Mock_1  Series6_A549-ACE2_Mock_2  \\\n",
       "LINC00115                  3.806662                  1.386294   \n",
       "NOC2L                      7.636752                  5.257495   \n",
       "MIR429                     0.000000                  0.000000   \n",
       "SDF4                       7.770223                  5.424950   \n",
       "ACAP3                      6.568078                  4.143135   \n",
       "...                             ...                       ...   \n",
       "F8A1                       5.257495                  2.484907   \n",
       "FUNDC2                     6.590301                  3.951244   \n",
       "MTCP1                      4.682131                  2.079442   \n",
       "BRCC3                      6.938284                  4.605170   \n",
       "CD24                       9.456497                  7.244228   \n",
       "\n",
       "           Series6_A549-ACE2_Mock_3  Series16_A549-ACE2_Mock_1  \\\n",
       "LINC00115                  3.367296                   1.098612   \n",
       "NOC2L                      7.356918                   5.075174   \n",
       "MIR429                     0.000000                   0.000000   \n",
       "SDF4                       7.461066                   5.648974   \n",
       "ACAP3                      6.329721                   3.526361   \n",
       "...                             ...                        ...   \n",
       "F8A1                       5.099866                   3.737670   \n",
       "FUNDC2                     6.135565                   4.990433   \n",
       "MTCP1                      4.343805                   3.135494   \n",
       "BRCC3                      6.400257                   5.123964   \n",
       "CD24                       9.115810                   7.430707   \n",
       "\n",
       "           Series16_A549-ACE2_Mock_2  Series16_A549-ACE2_Mock_3  \\\n",
       "LINC00115                   2.708050                   2.197225   \n",
       "NOC2L                       6.688355                   6.385194   \n",
       "MIR429                      0.000000                   0.000000   \n",
       "SDF4                        7.132498                   6.785588   \n",
       "ACAP3                       5.056246                   4.779123   \n",
       "...                              ...                        ...   \n",
       "F8A1                        4.820282                   4.499810   \n",
       "FUNDC2                      6.313548                   6.276643   \n",
       "MTCP1                       4.430817                   4.369448   \n",
       "BRCC3                       6.889591                   6.513230   \n",
       "CD24                        8.865029                   8.849944   \n",
       "\n",
       "           Series6_A549-ACE2_SARS-CoV-2_1  Series6_A549-ACE2_SARS-CoV-2_2  \\\n",
       "LINC00115                        4.663439                        3.218876   \n",
       "NOC2L                            5.910797                        4.744932   \n",
       "MIR429                           0.000000                        0.693147   \n",
       "SDF4                             6.045005                        5.147494   \n",
       "ACAP3                            4.983607                        3.850148   \n",
       "...                                   ...                             ...   \n",
       "F8A1                             3.367296                        2.890372   \n",
       "FUNDC2                           4.820282                        3.433987   \n",
       "MTCP1                            3.135494                        2.079442   \n",
       "BRCC3                            5.043425                        4.094345   \n",
       "CD24                             7.799753                        6.598509   \n",
       "\n",
       "           Series6_A549-ACE2_SARS-CoV-2_3  Series16_A549-ACE2_SARS-CoV-2_1  \\\n",
       "LINC00115                        2.772589                         3.828641   \n",
       "NOC2L                            4.442651                         4.672829   \n",
       "MIR429                           0.693147                         0.693147   \n",
       "SDF4                             4.787492                         5.463832   \n",
       "ACAP3                            3.091042                         3.583519   \n",
       "...                                   ...                              ...   \n",
       "F8A1                             2.772589                         3.401197   \n",
       "FUNDC2                           3.465736                         4.927254   \n",
       "MTCP1                            2.397895                         3.091042   \n",
       "BRCC3                            4.043051                         4.962845   \n",
       "CD24                             6.532334                         6.675823   \n",
       "\n",
       "           Series16_A549-ACE2_SARS-CoV-2_2  Series16_A549-ACE2_SARS-CoV-2_3  \\\n",
       "LINC00115                         4.158883                         4.330733   \n",
       "NOC2L                             4.595120                         4.644391   \n",
       "MIR429                            0.000000                         0.000000   \n",
       "SDF4                              5.455321                         5.342334   \n",
       "ACAP3                             3.610918                         3.583519   \n",
       "...                                    ...                              ...   \n",
       "F8A1                              2.995732                         3.135494   \n",
       "FUNDC2                            4.852030                         4.859812   \n",
       "MTCP1                             2.397895                         3.295837   \n",
       "BRCC3                             4.962845                         5.030438   \n",
       "CD24                              6.516193                         6.347389   \n",
       "\n",
       "            p-value  \n",
       "LINC00115  0.023795  \n",
       "NOC2L      0.008976  \n",
       "MIR429     0.049332  \n",
       "SDF4       0.011175  \n",
       "ACAP3      0.042887  \n",
       "...             ...  \n",
       "F8A1       0.019422  \n",
       "FUNDC2     0.028337  \n",
       "MTCP1      0.038054  \n",
       "BRCC3      0.010822  \n",
       "CD24       0.002421  \n",
       "\n",
       "[5641 rows x 13 columns]"
      ]
     },
     "execution_count": 19,
     "metadata": {},
     "output_type": "execute_result"
    }
   ],
   "source": [
    "data = dt.get_data('A549', 'healthy_ace2', 'sars-cov2_ace2')\n",
    "columns_healthy = dt.get_columns('A549', 'healthy_ace2')\n",
    "columns_sars_cov2 = dt.get_columns('A549', 'sars-cov2_ace2')\n",
    "\n",
    "filtered_data = dt.get_p_values('welch', data, columns_healthy, columns_sars_cov2)\n",
    "filtered_data"
   ]
  },
  {
   "cell_type": "code",
   "execution_count": 6,
   "metadata": {},
   "outputs": [
    {
     "data": {
      "image/png": "[encoded data removed]",
      "text/plain": [
       "<Figure size 1800x720 with 1 Axes>"
      ]
     },
     "metadata": {
      "needs_background": "light"
     },
     "output_type": "display_data"
    }
   ],
   "source": [
    "filtered_data.drop(['p-value'], axis = 1, inplace = True)\n",
    "dt.plot_dendrogram(filtered_data)"
   ]
  },
  {
   "cell_type": "code",
   "execution_count": 7,
   "metadata": {},
   "outputs": [],
   "source": [
    "labels = {}\n",
    "\n",
    "models = AgglomerativeClustering(n_clusters = 3, affinity = 'euclidean', linkage ='ward')\n",
    "labels['distance'] = models.fit_predict(filtered_data)"
   ]
  },
  {
   "cell_type": "code",
   "execution_count": 8,
   "metadata": {},
   "outputs": [
    {
     "data": {
      "text/plain": [
       "array([0, 2, 1, ..., 0, 1, 0], dtype=int64)"
      ]
     },
     "execution_count": 8,
     "metadata": {},
     "output_type": "execute_result"
    }
   ],
   "source": [
    "labels['distance']"
   ]
  },
  {
   "cell_type": "code",
   "execution_count": 9,
   "metadata": {},
   "outputs": [],
   "source": [
    "dissimilarity = 1 - np.abs(filtered_data.T.corr())\n",
    "hierarchy = linkage(squareform(dissimilarity), method='ward')\n",
    "labels['pearson'] = fcluster(hierarchy, 3, criterion='maxclust') - 1"
   ]
  },
  {
   "cell_type": "code",
   "execution_count": 10,
   "metadata": {},
   "outputs": [
    {
     "data": {
      "text/plain": [
       "array([2, 1, 1, ..., 2, 1, 2], dtype=int32)"
      ]
     },
     "execution_count": 10,
     "metadata": {},
     "output_type": "execute_result"
    }
   ],
   "source": [
    "labels['pearson']"
   ]
  },
  {
   "cell_type": "code",
   "execution_count": 11,
   "metadata": {},
   "outputs": [],
   "source": [
    "dissimilarity = 1 - np.abs(filtered_data.T.corr(method='spearman'))\n",
    "hierarchy = linkage(squareform(dissimilarity), method='ward')\n",
    "labels['spearman'] = fcluster(hierarchy, 3, criterion='maxclust') - 1"
   ]
  },
  {
   "cell_type": "code",
   "execution_count": 12,
   "metadata": {},
   "outputs": [
    {
     "data": {
      "text/plain": [
       "array([2, 2, 2, ..., 2, 1, 2], dtype=int32)"
      ]
     },
     "execution_count": 12,
     "metadata": {},
     "output_type": "execute_result"
    }
   ],
   "source": [
    "labels['spearman']"
   ]
  },
  {
   "cell_type": "code",
   "execution_count": 13,
   "metadata": {},
   "outputs": [
    {
     "name": "stdout",
     "output_type": "stream",
     "text": [
      "distance  vs  pearson :  0.02851254077608106\n",
      "distance  vs  spearman :  0.01920196175100068\n",
      "pearson  vs  distance :  0.02851254077608106\n",
      "pearson  vs  spearman :  0.3491697774910073\n",
      "spearman  vs  distance :  0.01920196175100068\n",
      "spearman  vs  pearson :  0.3491697774910073\n"
     ]
    }
   ],
   "source": [
    "from itertools import groupby\n",
    "\n",
    "clusters = {}\n",
    "\n",
    "for key1, label1 in labels.items():\n",
    "    clusters[key1] = [list(map(lambda x: x[0], v)) for k,v in groupby(sorted(zip(filtered_data.index, labels['spearman']), key = lambda x: x[1]), lambda s: s[1])]\n",
    "    \n",
    "    for key2, label2 in labels.items():\n",
    "        if key1 != key2:\n",
    "            print(key1, ' vs ', key2, ': ', adjusted_rand_score(label1, label2))"
   ]
  },
  {
   "cell_type": "code",
   "execution_count": null,
   "metadata": {},
   "outputs": [],
   "source": [
    "i = 0\n",
    "for c in clusters['distance']:\n",
    "    print(\"\\n\\nCluster\", i, \":\\n\")\n",
    "    i += 1\n",
    "    for x in c:\n",
    "        print(x)"
   ]
  },
  {
   "cell_type": "code",
   "execution_count": null,
   "metadata": {},
   "outputs": [],
   "source": [
    "i = 0\n",
    "for c in clusters['pearson']:\n",
    "    print(\"\\n\\nCluster\", i, \":\\n\")\n",
    "    i += 1\n",
    "    for x in c:\n",
    "        print(x)"
   ]
  },
  {
   "cell_type": "code",
   "execution_count": null,
   "metadata": {},
   "outputs": [],
   "source": [
    "i = 0\n",
    "for c in clusters['spearman']:\n",
    "    print(\"\\n\\nCluster\", i, \":\\n\")\n",
    "    i += 1\n",
    "    for x in c:\n",
    "        print(x)"
   ]
  },
  {
   "cell_type": "markdown",
   "metadata": {},
   "source": [
    "## Clustering on columns"
   ]
  },
  {
   "cell_type": "code",
   "execution_count": 17,
   "metadata": {},
   "outputs": [
    {
     "data": {
      "image/png": "[encoded data removed]",
      "text/plain": [
       "<Figure size 1800x720 with 1 Axes>"
      ]
     },
     "metadata": {
      "needs_background": "light"
     },
     "output_type": "display_data"
    }
   ],
   "source": [
    "dt.plot_dendrogram(filtered_data.T)"
   ]
  },
  {
   "cell_type": "code",
   "execution_count": 18,
   "metadata": {},
   "outputs": [
    {
     "name": "stdout",
     "output_type": "stream",
     "text": [
      "True:  [0, 0, 0, 0, 0, 0, 1, 1, 1, 1, 1, 1]\n",
      "Predicted:  [1 0 1 0 1 1 0 0 0 0 0 0]\n",
      "0.39560439560439553\n"
     ]
    }
   ],
   "source": [
    "labels_columns = {}\n",
    "\n",
    "models = AgglomerativeClustering(n_clusters = 2, affinity = 'euclidean', linkage ='ward')\n",
    "labels_columns['distance'] = models.fit_predict(filtered_data.T)\n",
    "\n",
    "labels_true = [0 if col in columns_healthy else 1 for col in filtered_data.columns]\n",
    "\n",
    "print(\"True: \", labels_true)\n",
    "print(\"Predicted: \", labels_columns['distance'])\n",
    "print(adjusted_rand_score(labels_true, labels_columns['distance']))"
   ]
  },
  {
   "cell_type": "code",
   "execution_count": null,
   "metadata": {},
   "outputs": [],
   "source": []
  }
 ],
 "metadata": {
  "kernelspec": {
   "display_name": "Python 3",
   "language": "python",
   "name": "python3"
  },
  "language_info": {
   "codemirror_mode": {
    "name": "ipython",
    "version": 3
   },
   "file_extension": ".py",
   "mimetype": "text/x-python",
   "name": "python",
   "nbconvert_exporter": "python",
   "pygments_lexer": "ipython3",
   "version": "3.8.3"
  }
 },
 "nbformat": 4,
 "nbformat_minor": 4
}
