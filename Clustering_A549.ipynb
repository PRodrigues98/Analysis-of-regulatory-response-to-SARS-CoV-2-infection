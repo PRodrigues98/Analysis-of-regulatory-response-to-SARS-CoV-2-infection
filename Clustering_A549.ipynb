{
 "cells": [
  {
   "cell_type": "code",
   "execution_count": 26,
   "metadata": {},
   "outputs": [],
   "source": [
    "import dataInterpreter as dt\n",
    "import numpy as np\n",
    "import matplotlib.pyplot as plt\n",
    "import pandas as pd\n",
    "pd.options.mode.chained_assignment = None  # default='warn'\n",
    "import scipy.cluster.hierarchy as sch\n",
    "from sklearn.cluster import AgglomerativeClustering \n",
    "from scipy.cluster.hierarchy import linkage, fcluster\n",
    "from scipy.spatial.distance import squareform\n",
    "from sklearn.metrics import adjusted_rand_score"
   ]
  },
  {
   "cell_type": "code",
   "execution_count": 28,
   "metadata": {},
   "outputs": [
    {
     "data": {
      "text/html": [
       "<div>\n",
       "<style scoped>\n",
       "    .dataframe tbody tr th:only-of-type {\n",
       "        vertical-align: middle;\n",
       "    }\n",
       "\n",
       "    .dataframe tbody tr th {\n",
       "        vertical-align: top;\n",
       "    }\n",
       "\n",
       "    .dataframe thead th {\n",
       "        text-align: right;\n",
       "    }\n",
       "</style>\n",
       "<table border=\"1\" class=\"dataframe\">\n",
       "  <thead>\n",
       "    <tr style=\"text-align: right;\">\n",
       "      <th></th>\n",
       "      <th>Series2_A549_Mock_1</th>\n",
       "      <th>Series2_A549_Mock_2</th>\n",
       "      <th>Series2_A549_Mock_3</th>\n",
       "      <th>Series2_A549_SARS-CoV-2_1</th>\n",
       "      <th>Series2_A549_SARS-CoV-2_2</th>\n",
       "      <th>Series2_A549_SARS-CoV-2_3</th>\n",
       "      <th>Series5_A549_Mock_1</th>\n",
       "      <th>Series5_A549_Mock_2</th>\n",
       "      <th>Series5_A549_Mock_3</th>\n",
       "      <th>Series5_A549_SARS-CoV-2_1</th>\n",
       "      <th>Series5_A549_SARS-CoV-2_2</th>\n",
       "      <th>Series5_A549_SARS-CoV-2_3</th>\n",
       "      <th>p-value</th>\n",
       "    </tr>\n",
       "  </thead>\n",
       "  <tbody>\n",
       "    <tr>\n",
       "      <th>ISG15</th>\n",
       "      <td>4.510860</td>\n",
       "      <td>3.761200</td>\n",
       "      <td>3.637586</td>\n",
       "      <td>7.257708</td>\n",
       "      <td>7.125283</td>\n",
       "      <td>6.777647</td>\n",
       "      <td>4.477337</td>\n",
       "      <td>3.871201</td>\n",
       "      <td>4.060443</td>\n",
       "      <td>4.343805</td>\n",
       "      <td>3.871201</td>\n",
       "      <td>4.709530</td>\n",
       "      <td>0.030101</td>\n",
       "    </tr>\n",
       "    <tr>\n",
       "      <th>CCNL2</th>\n",
       "      <td>7.469084</td>\n",
       "      <td>7.052721</td>\n",
       "      <td>6.731018</td>\n",
       "      <td>7.731053</td>\n",
       "      <td>7.625595</td>\n",
       "      <td>7.480428</td>\n",
       "      <td>7.570959</td>\n",
       "      <td>7.492760</td>\n",
       "      <td>7.291656</td>\n",
       "      <td>7.516977</td>\n",
       "      <td>7.527256</td>\n",
       "      <td>8.306225</td>\n",
       "      <td>0.040608</td>\n",
       "    </tr>\n",
       "    <tr>\n",
       "      <th>SLC35E2B</th>\n",
       "      <td>6.738152</td>\n",
       "      <td>6.232448</td>\n",
       "      <td>5.948035</td>\n",
       "      <td>6.830874</td>\n",
       "      <td>6.697034</td>\n",
       "      <td>6.418365</td>\n",
       "      <td>6.542472</td>\n",
       "      <td>6.522093</td>\n",
       "      <td>6.426488</td>\n",
       "      <td>6.739337</td>\n",
       "      <td>6.684612</td>\n",
       "      <td>7.200425</td>\n",
       "      <td>0.041069</td>\n",
       "    </tr>\n",
       "    <tr>\n",
       "      <th>ARHGEF16</th>\n",
       "      <td>5.293305</td>\n",
       "      <td>4.465908</td>\n",
       "      <td>4.543295</td>\n",
       "      <td>5.347108</td>\n",
       "      <td>5.198497</td>\n",
       "      <td>4.976734</td>\n",
       "      <td>5.030438</td>\n",
       "      <td>4.897840</td>\n",
       "      <td>4.762174</td>\n",
       "      <td>4.852030</td>\n",
       "      <td>5.247024</td>\n",
       "      <td>5.583496</td>\n",
       "      <td>0.049927</td>\n",
       "    </tr>\n",
       "    <tr>\n",
       "      <th>CEP104</th>\n",
       "      <td>6.555357</td>\n",
       "      <td>5.968708</td>\n",
       "      <td>5.780744</td>\n",
       "      <td>6.622736</td>\n",
       "      <td>6.516193</td>\n",
       "      <td>6.236370</td>\n",
       "      <td>6.300786</td>\n",
       "      <td>6.202536</td>\n",
       "      <td>6.137727</td>\n",
       "      <td>6.345636</td>\n",
       "      <td>6.440947</td>\n",
       "      <td>6.974479</td>\n",
       "      <td>0.037184</td>\n",
       "    </tr>\n",
       "    <tr>\n",
       "      <th>...</th>\n",
       "      <td>...</td>\n",
       "      <td>...</td>\n",
       "      <td>...</td>\n",
       "      <td>...</td>\n",
       "      <td>...</td>\n",
       "      <td>...</td>\n",
       "      <td>...</td>\n",
       "      <td>...</td>\n",
       "      <td>...</td>\n",
       "      <td>...</td>\n",
       "      <td>...</td>\n",
       "      <td>...</td>\n",
       "      <td>...</td>\n",
       "    </tr>\n",
       "    <tr>\n",
       "      <th>TMLHE</th>\n",
       "      <td>5.556828</td>\n",
       "      <td>4.919981</td>\n",
       "      <td>4.605170</td>\n",
       "      <td>5.852202</td>\n",
       "      <td>5.717028</td>\n",
       "      <td>5.278115</td>\n",
       "      <td>5.497168</td>\n",
       "      <td>5.393628</td>\n",
       "      <td>5.337538</td>\n",
       "      <td>5.634790</td>\n",
       "      <td>5.765191</td>\n",
       "      <td>6.159095</td>\n",
       "      <td>0.023268</td>\n",
       "    </tr>\n",
       "    <tr>\n",
       "      <th>RPS4Y1</th>\n",
       "      <td>6.765039</td>\n",
       "      <td>6.070738</td>\n",
       "      <td>5.888878</td>\n",
       "      <td>6.951772</td>\n",
       "      <td>6.669498</td>\n",
       "      <td>6.436150</td>\n",
       "      <td>6.431331</td>\n",
       "      <td>6.361302</td>\n",
       "      <td>6.249975</td>\n",
       "      <td>6.711740</td>\n",
       "      <td>6.782192</td>\n",
       "      <td>7.363280</td>\n",
       "      <td>0.014855</td>\n",
       "    </tr>\n",
       "    <tr>\n",
       "      <th>UTY</th>\n",
       "      <td>4.060443</td>\n",
       "      <td>3.401197</td>\n",
       "      <td>2.995732</td>\n",
       "      <td>4.564348</td>\n",
       "      <td>4.007333</td>\n",
       "      <td>3.496508</td>\n",
       "      <td>3.663562</td>\n",
       "      <td>3.663562</td>\n",
       "      <td>3.526361</td>\n",
       "      <td>3.806662</td>\n",
       "      <td>4.304065</td>\n",
       "      <td>4.653960</td>\n",
       "      <td>0.030483</td>\n",
       "    </tr>\n",
       "    <tr>\n",
       "      <th>NLGN4Y</th>\n",
       "      <td>2.639057</td>\n",
       "      <td>2.772589</td>\n",
       "      <td>2.484907</td>\n",
       "      <td>3.367296</td>\n",
       "      <td>3.178054</td>\n",
       "      <td>2.564949</td>\n",
       "      <td>2.484907</td>\n",
       "      <td>2.484907</td>\n",
       "      <td>2.639057</td>\n",
       "      <td>2.995732</td>\n",
       "      <td>3.295837</td>\n",
       "      <td>3.295837</td>\n",
       "      <td>0.002370</td>\n",
       "    </tr>\n",
       "    <tr>\n",
       "      <th>EIF1AY</th>\n",
       "      <td>4.736198</td>\n",
       "      <td>4.369448</td>\n",
       "      <td>3.526361</td>\n",
       "      <td>5.283204</td>\n",
       "      <td>4.983607</td>\n",
       "      <td>4.736198</td>\n",
       "      <td>4.189655</td>\n",
       "      <td>4.077537</td>\n",
       "      <td>4.276666</td>\n",
       "      <td>4.356709</td>\n",
       "      <td>4.317488</td>\n",
       "      <td>5.017280</td>\n",
       "      <td>0.026904</td>\n",
       "    </tr>\n",
       "  </tbody>\n",
       "</table>\n",
       "<p>3910 rows × 13 columns</p>\n",
       "</div>"
      ],
      "text/plain": [
       "          Series2_A549_Mock_1  Series2_A549_Mock_2  Series2_A549_Mock_3  \\\n",
       "ISG15                4.510860             3.761200             3.637586   \n",
       "CCNL2                7.469084             7.052721             6.731018   \n",
       "SLC35E2B             6.738152             6.232448             5.948035   \n",
       "ARHGEF16             5.293305             4.465908             4.543295   \n",
       "CEP104               6.555357             5.968708             5.780744   \n",
       "...                       ...                  ...                  ...   \n",
       "TMLHE                5.556828             4.919981             4.605170   \n",
       "RPS4Y1               6.765039             6.070738             5.888878   \n",
       "UTY                  4.060443             3.401197             2.995732   \n",
       "NLGN4Y               2.639057             2.772589             2.484907   \n",
       "EIF1AY               4.736198             4.369448             3.526361   \n",
       "\n",
       "          Series2_A549_SARS-CoV-2_1  Series2_A549_SARS-CoV-2_2  \\\n",
       "ISG15                      7.257708                   7.125283   \n",
       "CCNL2                      7.731053                   7.625595   \n",
       "SLC35E2B                   6.830874                   6.697034   \n",
       "ARHGEF16                   5.347108                   5.198497   \n",
       "CEP104                     6.622736                   6.516193   \n",
       "...                             ...                        ...   \n",
       "TMLHE                      5.852202                   5.717028   \n",
       "RPS4Y1                     6.951772                   6.669498   \n",
       "UTY                        4.564348                   4.007333   \n",
       "NLGN4Y                     3.367296                   3.178054   \n",
       "EIF1AY                     5.283204                   4.983607   \n",
       "\n",
       "          Series2_A549_SARS-CoV-2_3  Series5_A549_Mock_1  Series5_A549_Mock_2  \\\n",
       "ISG15                      6.777647             4.477337             3.871201   \n",
       "CCNL2                      7.480428             7.570959             7.492760   \n",
       "SLC35E2B                   6.418365             6.542472             6.522093   \n",
       "ARHGEF16                   4.976734             5.030438             4.897840   \n",
       "CEP104                     6.236370             6.300786             6.202536   \n",
       "...                             ...                  ...                  ...   \n",
       "TMLHE                      5.278115             5.497168             5.393628   \n",
       "RPS4Y1                     6.436150             6.431331             6.361302   \n",
       "UTY                        3.496508             3.663562             3.663562   \n",
       "NLGN4Y                     2.564949             2.484907             2.484907   \n",
       "EIF1AY                     4.736198             4.189655             4.077537   \n",
       "\n",
       "          Series5_A549_Mock_3  Series5_A549_SARS-CoV-2_1  \\\n",
       "ISG15                4.060443                   4.343805   \n",
       "CCNL2                7.291656                   7.516977   \n",
       "SLC35E2B             6.426488                   6.739337   \n",
       "ARHGEF16             4.762174                   4.852030   \n",
       "CEP104               6.137727                   6.345636   \n",
       "...                       ...                        ...   \n",
       "TMLHE                5.337538                   5.634790   \n",
       "RPS4Y1               6.249975                   6.711740   \n",
       "UTY                  3.526361                   3.806662   \n",
       "NLGN4Y               2.639057                   2.995732   \n",
       "EIF1AY               4.276666                   4.356709   \n",
       "\n",
       "          Series5_A549_SARS-CoV-2_2  Series5_A549_SARS-CoV-2_3   p-value  \n",
       "ISG15                      3.871201                   4.709530  0.030101  \n",
       "CCNL2                      7.527256                   8.306225  0.040608  \n",
       "SLC35E2B                   6.684612                   7.200425  0.041069  \n",
       "ARHGEF16                   5.247024                   5.583496  0.049927  \n",
       "CEP104                     6.440947                   6.974479  0.037184  \n",
       "...                             ...                        ...       ...  \n",
       "TMLHE                      5.765191                   6.159095  0.023268  \n",
       "RPS4Y1                     6.782192                   7.363280  0.014855  \n",
       "UTY                        4.304065                   4.653960  0.030483  \n",
       "NLGN4Y                     3.295837                   3.295837  0.002370  \n",
       "EIF1AY                     4.317488                   5.017280  0.026904  \n",
       "\n",
       "[3910 rows x 13 columns]"
      ]
     },
     "execution_count": 28,
     "metadata": {},
     "output_type": "execute_result"
    }
   ],
   "source": [
    "data = dt.get_data('A549', 'healthy', 'sars-cov2', series = (2, 5))\n",
    "columns_healthy = dt.get_columns('A549', 'healthy', series = (2, 5))\n",
    "columns_sars_cov2 = dt.get_columns('A549', 'sars-cov2', series = (2, 5))\n",
    "\n",
    "filtered_data = dt.get_p_values('welch', data, columns_healthy, columns_sars_cov2)\n",
    "filtered_data"
   ]
  },
  {
   "cell_type": "code",
   "execution_count": 29,
   "metadata": {},
   "outputs": [
    {
     "data": {
      "image/png": "[encoded data removed]",
      "text/plain": [
       "<Figure size 1800x720 with 1 Axes>"
      ]
     },
     "metadata": {
      "needs_background": "light"
     },
     "output_type": "display_data"
    }
   ],
   "source": [
    "filtered_data.drop(['p-value'], axis = 1, inplace = True)\n",
    "dt.plot_dendrogram(filtered_data)"
   ]
  },
  {
   "cell_type": "code",
   "execution_count": 8,
   "metadata": {},
   "outputs": [],
   "source": [
    "labels = {}\n",
    "\n",
    "models = AgglomerativeClustering(n_clusters = 3, affinity = 'euclidean', linkage ='ward')\n",
    "labels['distance'] = models.fit_predict(filtered_data)"
   ]
  },
  {
   "cell_type": "code",
   "execution_count": 9,
   "metadata": {},
   "outputs": [
    {
     "data": {
      "text/plain": [
       "array([2, 0, 0, ..., 2, 1, 2], dtype=int64)"
      ]
     },
     "execution_count": 9,
     "metadata": {},
     "output_type": "execute_result"
    }
   ],
   "source": [
    "labels['distance']"
   ]
  },
  {
   "cell_type": "code",
   "execution_count": 10,
   "metadata": {},
   "outputs": [],
   "source": [
    "dissimilarity = 1 - np.abs(filtered_data.T.corr())\n",
    "hierarchy = linkage(squareform(dissimilarity), method='ward')\n",
    "labels['pearson'] = fcluster(hierarchy, 3, criterion='maxclust') - 1"
   ]
  },
  {
   "cell_type": "code",
   "execution_count": 11,
   "metadata": {},
   "outputs": [
    {
     "data": {
      "text/plain": [
       "array([1, 1, 1, ..., 1, 1, 1], dtype=int32)"
      ]
     },
     "execution_count": 11,
     "metadata": {},
     "output_type": "execute_result"
    }
   ],
   "source": [
    "labels['pearson']"
   ]
  },
  {
   "cell_type": "code",
   "execution_count": 12,
   "metadata": {},
   "outputs": [],
   "source": [
    "dissimilarity = 1 - np.abs(filtered_data.T.corr(method='spearman'))\n",
    "hierarchy = linkage(squareform(dissimilarity), method='ward')\n",
    "labels['spearman'] = fcluster(hierarchy, 3, criterion='maxclust') - 1"
   ]
  },
  {
   "cell_type": "code",
   "execution_count": 13,
   "metadata": {},
   "outputs": [
    {
     "data": {
      "text/plain": [
       "array([0, 0, 0, ..., 0, 2, 0], dtype=int32)"
      ]
     },
     "execution_count": 13,
     "metadata": {},
     "output_type": "execute_result"
    }
   ],
   "source": [
    "labels['spearman']"
   ]
  },
  {
   "cell_type": "code",
   "execution_count": 14,
   "metadata": {},
   "outputs": [
    {
     "name": "stdout",
     "output_type": "stream",
     "text": [
      "distance  vs  pearson :  0.019413472705641744\n",
      "distance  vs  spearman :  0.028126211419059823\n",
      "pearson  vs  distance :  0.019413472705641744\n",
      "pearson  vs  spearman :  0.5062502539307807\n",
      "spearman  vs  distance :  0.028126211419059823\n",
      "spearman  vs  pearson :  0.5062502539307807\n"
     ]
    }
   ],
   "source": [
    "from itertools import groupby\n",
    "\n",
    "clusters = {}\n",
    "\n",
    "for key1, label1 in labels.items():\n",
    "    clusters[key1] = [list(map(lambda x: x[0], v)) for k,v in groupby(sorted(zip(filtered_data.index, labels['spearman']), key = lambda x: x[1]), lambda s: s[1])]\n",
    "    \n",
    "    for key2, label2 in labels.items():\n",
    "        if key1 != key2:\n",
    "            print(key1, ' vs ', key2, ': ', adjusted_rand_score(label1, label2))"
   ]
  },
  {
   "cell_type": "code",
   "execution_count": null,
   "metadata": {},
   "outputs": [],
   "source": [
    "i = 0\n",
    "for c in clusters['distance']:\n",
    "    print(\"\\n\\nCluster\", i, \":\\n\")\n",
    "    i += 1\n",
    "    for x in c:\n",
    "        print(x)"
   ]
  },
  {
   "cell_type": "code",
   "execution_count": null,
   "metadata": {},
   "outputs": [],
   "source": [
    "i = 0\n",
    "for c in clusters['pearson']:\n",
    "    print(\"\\n\\nCluster\", i, \":\\n\")\n",
    "    i += 1\n",
    "    for x in c:\n",
    "        print(x)"
   ]
  },
  {
   "cell_type": "code",
   "execution_count": null,
   "metadata": {},
   "outputs": [],
   "source": [
    "i = 0\n",
    "for c in clusters['spearman']:\n",
    "    print(\"\\n\\nCluster\", i, \":\\n\")\n",
    "    i += 1\n",
    "    for x in c:\n",
    "        print(x)"
   ]
  },
  {
   "cell_type": "markdown",
   "metadata": {},
   "source": [
    "## Clustering on columns"
   ]
  },
  {
   "cell_type": "code",
   "execution_count": 23,
   "metadata": {},
   "outputs": [
    {
     "data": {
      "image/png": "[encoded data removed]",
      "text/plain": [
       "<Figure size 1800x720 with 1 Axes>"
      ]
     },
     "metadata": {
      "needs_background": "light"
     },
     "output_type": "display_data"
    }
   ],
   "source": [
    "dt.plot_dendrogram(filtered_data.T)"
   ]
  },
  {
   "cell_type": "code",
   "execution_count": 25,
   "metadata": {},
   "outputs": [
    {
     "name": "stdout",
     "output_type": "stream",
     "text": [
      "True:  [0, 0, 0, 1, 1, 1, 0, 0, 0, 1, 1, 1]\n",
      "Predicted:  [0 0 0 1 0 0 0 0 0 1 1 1]\n",
      "0.39560439560439553\n"
     ]
    }
   ],
   "source": [
    "labels_columns = {}\n",
    "\n",
    "models = AgglomerativeClustering(n_clusters = 2, affinity = 'euclidean', linkage ='ward')\n",
    "labels_columns['distance'] = models.fit_predict(filtered_data.T)\n",
    "\n",
    "labels_true = [0 if col in columns_healthy else 1 for col in filtered_data.columns]\n",
    "\n",
    "print(\"True: \", labels_true)\n",
    "print(\"Predicted: \", labels_columns['distance'])\n",
    "print(adjusted_rand_score(labels_true, labels_columns['distance']))"
   ]
  },
  {
   "cell_type": "code",
   "execution_count": null,
   "metadata": {},
   "outputs": [],
   "source": []
  }
 ],
 "metadata": {
  "kernelspec": {
   "display_name": "Python 3",
   "language": "python",
   "name": "python3"
  },
  "language_info": {
   "codemirror_mode": {
    "name": "ipython",
    "version": 3
   },
   "file_extension": ".py",
   "mimetype": "text/x-python",
   "name": "python",
   "nbconvert_exporter": "python",
   "pygments_lexer": "ipython3",
   "version": "3.8.3"
  }
 },
 "nbformat": 4,
 "nbformat_minor": 4
}
