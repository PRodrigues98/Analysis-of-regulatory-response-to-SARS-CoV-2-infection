{
 "cells": [
  {
   "cell_type": "code",
   "execution_count": 1,
   "metadata": {},
   "outputs": [],
   "source": [
    "import sys\n",
    "sys.path.append(\"../\")\n",
    "\n",
    "import dataInterpreter as dt\n",
    "import enrichmentAnalysis as ea\n",
    "import numpy as np\n",
    "import matplotlib.pyplot as plt\n",
    "import pandas as pd\n",
    "import scipy\n",
    "pd.options.mode.chained_assignment = None  # default='warn'\n",
    "\n",
    "path = \"C:\\\\Users\\\\Pedro\\\\Desktop\\\\bicpams_5.1\\\\data\\\\latecovid\\\\\""
   ]
  },
  {
   "cell_type": "code",
   "execution_count": 2,
   "metadata": {},
   "outputs": [],
   "source": [
    "filtered_data_01 = pd.read_csv(path + 'data-p01.csv', index_col = 0, sep = '\\t').T\n",
    "filtered_data_05 = pd.read_csv(path + 'data-p05.csv', index_col = 0, sep = '\\t').T"
   ]
  },
  {
   "cell_type": "code",
   "execution_count": 3,
   "metadata": {},
   "outputs": [
    {
     "data": {
      "text/plain": [
       "{'Series': 'Series1', 'Cell Type': 'NHBE', 'Condition': 'Healthy'}"
      ]
     },
     "execution_count": 3,
     "metadata": {},
     "output_type": "execute_result"
    }
   ],
   "source": [
    "def get_info_from_name(col_name):\n",
    "    result = {}\n",
    "    info = col_name.split('_')\n",
    "    result['Series'] = info[0]\n",
    "    \n",
    "    if info[1] == 'COVID19Lung':\n",
    "        result['Cell Type'] = 'Biopsy'\n",
    "        result['Condition'] = 'SARS-CoV-2'\n",
    "        return result\n",
    "    elif info[1] == 'HealthyLungBiopsy':\n",
    "        result['Cell Type'] = 'Biopsy'\n",
    "        result['Condition'] = 'Healthy'\n",
    "        return result\n",
    "        \n",
    "    result['Cell Type'] = info[1]\n",
    "    \n",
    "    if info[2] == 'Mock':\n",
    "        result['Condition'] = 'Healthy'\n",
    "    else:\n",
    "        result['Condition'] = info[2].replace('.', '-')\n",
    "    \n",
    "    return result\n",
    "\n",
    "get_info_from_name('Series1_NHBE_Mock_1')"
   ]
  },
  {
   "cell_type": "code",
   "execution_count": 4,
   "metadata": {},
   "outputs": [],
   "source": [
    "classes = {'NHBE': {}, 'A549': {}, 'Calu3': {}, 'Biopsy': {}}\n",
    "i = 0\n",
    "for c in filtered_data_01.index:\n",
    "    info = get_info_from_name(c)\n",
    "    if info['Condition'] not in classes[info['Cell Type']]:\n",
    "        classes[info['Cell Type']][info['Condition']] = i\n",
    "        i += 1\n",
    "        \n",
    "y = []\n",
    "for c in filtered_data_01.index:\n",
    "    info = get_info_from_name(c)\n",
    "    y.append(classes[info['Cell Type']][info['Condition']])\n",
    "    \n",
    "y_names = [' '] * 13\n",
    "for c_type in classes:\n",
    "    for cond in classes[c_type]:\n",
    "        y_names[classes[c_type][cond]] = c_type + ' ' + cond\n"
   ]
  },
  {
   "cell_type": "code",
   "execution_count": 6,
   "metadata": {},
   "outputs": [],
   "source": [
    "from sklearn import svm\n",
    "\n",
    "clf = svm.SVC().fit(filtered_data_01, y)"
   ]
  },
  {
   "cell_type": "code",
   "execution_count": 15,
   "metadata": {},
   "outputs": [
    {
     "data": {
      "text/plain": [
       "array([[ 2.07944154,  7.45124168,  5.76205138, ...,  5.96614674,\n",
       "         6.21860012,  0.        ],\n",
       "       [ 2.39789527,  7.32712329,  5.57215403, ...,  5.75890177,\n",
       "         6.19644413,  0.        ],\n",
       "       [ 2.19722458,  7.88870952,  6.1737861 , ...,  6.35784227,\n",
       "         6.47234629,  0.        ],\n",
       "       ...,\n",
       "       [ 5.97888576, 10.10720361,  7.39878628, ...,  7.87511928,\n",
       "         3.04452244,  5.53338949],\n",
       "       [ 0.        ,  2.56494936,  3.13549422, ...,  3.8918203 ,\n",
       "         1.79175947,  0.        ],\n",
       "       [ 0.        ,  0.        ,  0.        , ...,  0.        ,\n",
       "         0.        ,  0.        ]])"
      ]
     },
     "execution_count": 15,
     "metadata": {},
     "output_type": "execute_result"
    }
   ],
   "source": [
    "clf.support_vectors_"
   ]
  },
  {
   "cell_type": "code",
   "execution_count": 11,
   "metadata": {},
   "outputs": [
    {
     "data": {
      "text/plain": [
       "array([ 0,  1,  2,  3,  4,  5,  6,  7,  8,  9, 10, 11, 12, 13, 14, 15, 16,\n",
       "       17, 18, 21, 22, 23, 24, 25, 26, 27, 28, 29, 30, 31, 32, 33, 34, 35,\n",
       "       36, 37, 38, 39, 40, 41, 42, 43, 44, 45, 46, 47, 48, 49, 50, 51, 52,\n",
       "       53])"
      ]
     },
     "execution_count": 11,
     "metadata": {},
     "output_type": "execute_result"
    }
   ],
   "source": [
    "clf.support_"
   ]
  },
  {
   "cell_type": "code",
   "execution_count": 12,
   "metadata": {},
   "outputs": [
    {
     "data": {
      "text/plain": [
       "array([ 7,  3,  4,  4, 11,  6,  2,  2,  3,  3,  3,  2,  2])"
      ]
     },
     "execution_count": 12,
     "metadata": {},
     "output_type": "execute_result"
    }
   ],
   "source": [
    "clf.n_support_"
   ]
  },
  {
   "cell_type": "code",
   "execution_count": null,
   "metadata": {},
   "outputs": [],
   "source": []
  }
 ],
 "metadata": {
  "kernelspec": {
   "display_name": "Python 3",
   "language": "python",
   "name": "python3"
  },
  "language_info": {
   "codemirror_mode": {
    "name": "ipython",
    "version": 3
   },
   "file_extension": ".py",
   "mimetype": "text/x-python",
   "name": "python",
   "nbconvert_exporter": "python",
   "pygments_lexer": "ipython3",
   "version": "3.8.3"
  }
 },
 "nbformat": 4,
 "nbformat_minor": 4
}
