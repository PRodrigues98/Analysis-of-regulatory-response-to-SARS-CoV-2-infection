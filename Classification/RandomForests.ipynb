{
 "cells": [
  {
   "cell_type": "code",
   "execution_count": null,
   "metadata": {},
   "outputs": [],
   "source": [
    "import sys\n",
    "sys.path.append(\"../\")\n",
    "\n",
    "import dataInterpreter as dt\n",
    "import enrichmentAnalysis as ea\n",
    "import numpy as np\n",
    "import matplotlib.pyplot as plt\n",
    "import pandas as pd\n",
    "import scipy\n",
    "pd.options.mode.chained_assignment = None  # default='warn'\n",
    "from sklearn.ensemble import RandomForestClassifier\n",
    "\n",
    "\n",
    "path = \"C:\\\\Users\\\\Pedro\\\\Documents\\\\BicPAMS\\\\bicpams_5.1\\\\data\\\\latecovid\\\\\""
   ]
  },
  {
   "cell_type": "code",
   "execution_count": null,
   "metadata": {},
   "outputs": [],
   "source": [
    "filtered_data_01 = pd.read_csv(path + 'data-p01.csv', index_col = 0, sep = '\\t').T\n",
    "filtered_data_05 = pd.read_csv(path + 'data-p05.csv', index_col = 0, sep = '\\t').T"
   ]
  },
  {
   "cell_type": "code",
   "execution_count": null,
   "metadata": {},
   "outputs": [],
   "source": [
    "classes = {'NHBE': {}, 'A549': {}, 'Calu3': {}, 'Biopsy': {}}\n",
    "i = 0\n",
    "for c in filtered_data_01.index:\n",
    "    info = dt.get_info_from_name(c)\n",
    "    if info['Condition'] not in classes[info['Cell Type']]:\n",
    "        classes[info['Cell Type']][info['Condition']] = i\n",
    "        i += 1\n",
    "        \n",
    "y = []\n",
    "for c in filtered_data_01.index:\n",
    "    info = dt.get_info_from_name(c)\n",
    "    y.append(classes[info['Cell Type']][info['Condition']])\n",
    "    \n",
    "y_names = [' '] * 13\n",
    "for c_type in classes:\n",
    "    for cond in classes[c_type]:\n",
    "        y_names[classes[c_type][cond]] = c_type + ' ' + cond\n"
   ]
  },
  {
   "cell_type": "code",
   "execution_count": null,
   "metadata": {
    "scrolled": true,
    "tags": []
   },
   "outputs": [],
   "source": [
    "parameters = {\n",
    "    'random_state': 42, \n",
    "    'n_estimators': 400, \n",
    "    'criterion': \"gini\", \n",
    "    'max_depth': None, \n",
    "    'min_samples_split': 2, \n",
    "    'min_samples_leaf': 1,\n",
    "    'max_features': \"sqrt\"\n",
    "}\n",
    "\n",
    "stats_NHBE = dt.apply_loocv(filtered_data_01.values, np.array(y), RandomForestClassifier(**parameters))\n",
    "stats_NHBE"
   ]
  },
  {
   "cell_type": "code",
   "execution_count": null,
   "metadata": {
    "scrolled": true,
    "tags": []
   },
   "outputs": [],
   "source": [
    "clf = RandomForestClassifier(**parameters).fit(filtered_data_01, y)\n",
    "\n",
    "list(sorted(zip(clf.feature_importances_, filtered_data_01.columns), reverse = True))"
   ]
  },
  {
   "cell_type": "code",
   "execution_count": null,
   "metadata": {
    "scrolled": true,
    "tags": []
   },
   "outputs": [],
   "source": [
    "selected_genes = [x[1] for x in list(sorted(zip(clf.feature_importances_, filtered_data_01.columns), reverse = True)) if x[0] > 0.001]\n",
    "selected_genes"
   ]
  },
  {
   "cell_type": "code",
   "execution_count": null,
   "metadata": {
    "scrolled": true,
    "tags": []
   },
   "outputs": [],
   "source": [
    "results = ea.getEnrichment(selected_genes, 'GO_Biological_Process_2021')['GO_Biological_Process_2021']\n",
    "results"
   ]
  },
  {
   "cell_type": "code",
   "execution_count": null,
   "metadata": {},
   "outputs": [],
   "source": [
    "import json\n",
    "\n",
    "with open('results_RandomForest.json', 'w') as file:\n",
    "     #file.write(json.dumps(results)) # use `json.loads` to do the reverse"
   ]
  },
  {
   "cell_type": "code",
   "execution_count": 17,
   "metadata": {},
   "outputs": [],
   "source": [
    "import json\n",
    "\n",
    "with open('results_RandomForest.json') as file:\n",
    "    results = json.load(file)"
   ]
  },
  {
   "cell_type": "code",
   "execution_count": 20,
   "metadata": {},
   "outputs": [],
   "source": [
    "dataset = {'p-value': [], 'Score': []}\n",
    "index = []\n",
    "\n",
    "for term in results:\n",
    "    index += [term[1]]\n",
    "    dataset['p-value'] += [term[6]]\n",
    "    dataset['Score'] += [term[4]]\n",
    "enrichment_dataset = pd.DataFrame(dataset, index = index)"
   ]
  },
  {
   "cell_type": "code",
   "execution_count": 24,
   "metadata": {},
   "outputs": [
    {
     "data": {
      "text/plain": [
       "215"
      ]
     },
     "execution_count": 24,
     "metadata": {},
     "output_type": "execute_result"
    }
   ],
   "source": [
    "len(enrichment_dataset[enrichment_dataset['p-value'] < 0.05].index)"
   ]
  },
  {
   "cell_type": "code",
   "execution_count": null,
   "metadata": {
    "tags": []
   },
   "outputs": [],
   "source": [
    "pd.set_option(\"display.max_rows\", None)\n",
    "selection = enrichment_dataset[enrichment_dataset['p-value'] < 0.01].sort_values('Score', ascending = False).head(25)\n",
    "\n",
    "selection['p-value'] = selection['p-value'].map(lambda x: '%.2E' % x)\n",
    "selection['Score'] = selection['Score'].map(lambda x: '%.2f' % x)\n",
    "\n",
    "#selection.to_csv('RandomForest_table.csv')\n",
    "selection"
   ]
  },
  {
   "cell_type": "markdown",
   "metadata": {},
   "source": [
    "### Two class comparison"
   ]
  },
  {
   "cell_type": "markdown",
   "metadata": {},
   "source": [
    "##### NHBE"
   ]
  },
  {
   "cell_type": "code",
   "execution_count": null,
   "metadata": {
    "scrolled": true,
    "tags": []
   },
   "outputs": [],
   "source": [
    "cols_nhbe_healthy = dt.get_columns('NHBE', 'healthy')\n",
    "cols_nhbe_cov2 = dt.get_columns('NHBE', 'sars-cov2')\n",
    "\n",
    "labels_nhbe = [0] * len(cols_nhbe_healthy) + [1] * len(cols_nhbe_cov2)\n",
    "\n",
    "data_nhbe = dt.get_data('NHBE', 'healthy', 'sars-cov2')\n",
    "\n",
    "filtered_data_NHBE = dt.get_p_values('mannwhitneyu', data_nhbe, cols_nhbe_healthy, cols_nhbe_cov2)\n",
    "filtered_data_NHBE.drop(['p-value'], axis = 1, inplace = True)\n",
    "\n",
    "len(filtered_data_NHBE.index)"
   ]
  },
  {
   "cell_type": "code",
   "execution_count": null,
   "metadata": {},
   "outputs": [],
   "source": [
    "parameters = {\n",
    "    'random_state': 42, \n",
    "    'n_estimators': 200, \n",
    "    'criterion': \"gini\", \n",
    "    'max_depth': None, \n",
    "    'min_samples_split': 2, \n",
    "    'min_samples_leaf': 1,\n",
    "    'max_features': \"sqrt\"\n",
    "}\n",
    "\n",
    "stats_NHBE = dt.apply_loocv(filtered_data_NHBE.T.values, np.array(labels_nhbe), RandomForestClassifier(**parameters))\n",
    "stats_NHBE"
   ]
  },
  {
   "cell_type": "code",
   "execution_count": null,
   "metadata": {
    "scrolled": true,
    "tags": []
   },
   "outputs": [],
   "source": [
    "nhbe_clf = RandomForestClassifier(**parameters).fit(filtered_data_NHBE.T, labels_nhbe)\n",
    "\n",
    "list(sorted(zip(nhbe_clf.feature_importances_, filtered_data_NHBE.T.columns), reverse = True))"
   ]
  },
  {
   "cell_type": "code",
   "execution_count": null,
   "metadata": {
    "scrolled": true,
    "tags": []
   },
   "outputs": [],
   "source": [
    "selected_genes_nhbe = [x[1] for x in list(sorted(zip(nhbe_clf.feature_importances_, filtered_data_NHBE.T.columns), reverse = True)) if x[0] > 0]\n",
    "selected_genes_nhbe"
   ]
  },
  {
   "cell_type": "code",
   "execution_count": null,
   "metadata": {
    "scrolled": true,
    "tags": []
   },
   "outputs": [],
   "source": [
    "results_nhbe = ea.getEnrichment(selected_genes_nhbe, 'GO_Biological_Process_2021')['GO_Biological_Process_2021']\n",
    "results_nhbe"
   ]
  },
  {
   "cell_type": "code",
   "execution_count": null,
   "metadata": {},
   "outputs": [],
   "source": [
    "import json\n",
    "\n",
    "with open('results_RandomForest_NHBE.json', 'w') as file:\n",
    "     #file.write(json.dumps(results_nhbe)) # use `json.loads` to do the reverse"
   ]
  },
  {
   "cell_type": "code",
   "execution_count": 11,
   "metadata": {},
   "outputs": [],
   "source": [
    "import json\n",
    "\n",
    "with open('results_RandomForest_NHBE.json') as file:\n",
    "    results_nhbe = json.load(file)"
   ]
  },
  {
   "cell_type": "code",
   "execution_count": 13,
   "metadata": {},
   "outputs": [],
   "source": [
    "dataset = {'p-value': [], 'Score': [], 'Value': []}\n",
    "index_nhbe = []\n",
    "\n",
    "cols_nhbe_healthy = dt.get_columns('NHBE', 'healthy')\n",
    "cols_nhbe_cov2 = dt.get_columns('NHBE', 'sars-cov2')\n",
    "\n",
    "data_nhbe = dt.get_data('NHBE', 'healthy', 'sars-cov2')\n",
    "\n",
    "for term in results_nhbe:\n",
    "    index_nhbe += [term[1]]\n",
    "    dataset['p-value'] += [term[6]]\n",
    "    dataset['Score'] += [term[4]]\n",
    "    \n",
    "    genes = term[5]\n",
    "    avg_sub = np.mean(data_nhbe.loc[genes, cols_nhbe_healthy].values, axis = 1) - np.mean(data_nhbe.loc[genes, cols_nhbe_cov2].values, axis = 1)\n",
    "\n",
    "    downs = 0\n",
    "    ups = 0\n",
    "\n",
    "    for e in avg_sub:\n",
    "        if e > 0:\n",
    "            downs += 1\n",
    "        elif e < 0:\n",
    "            ups += 1\n",
    "\n",
    "    dataset['Value'] += ['%d up, %d down' % (ups, downs)]\n",
    "enrichment_nhbe_dataset = pd.DataFrame(dataset, index = index_nhbe)"
   ]
  },
  {
   "cell_type": "code",
   "execution_count": 16,
   "metadata": {},
   "outputs": [
    {
     "data": {
      "text/plain": [
       "3"
      ]
     },
     "execution_count": 16,
     "metadata": {},
     "output_type": "execute_result"
    }
   ],
   "source": [
    "len(enrichment_nhbe_dataset[enrichment_nhbe_dataset['p-value'] < 0.001].index)"
   ]
  },
  {
   "cell_type": "code",
   "execution_count": null,
   "metadata": {},
   "outputs": [],
   "source": [
    "pd.set_option(\"display.max_rows\", None)\n",
    "selection = enrichment_nhbe_dataset[enrichment_nhbe_dataset['p-value'] < 0.05].sort_values('Score', ascending = False)#.head(25)[['p-value', 'Score']]\n",
    "\n",
    "selection['p-value'] = selection['p-value'].map(lambda x: '%.2E' % x)\n",
    "selection['Score'] = selection['Score'].map(lambda x: '%.2f' % x)\n",
    "\n",
    "#selection.to_csv('NHBE_RandomForest_table.csv')\n",
    "selection"
   ]
  },
  {
   "cell_type": "markdown",
   "metadata": {},
   "source": [
    "##### A549"
   ]
  },
  {
   "cell_type": "code",
   "execution_count": null,
   "metadata": {
    "scrolled": true,
    "tags": []
   },
   "outputs": [],
   "source": [
    "cols_healthy_A549 = dt.get_columns('A549', 'healthy')\n",
    "cols_cov2_A549 = dt.get_columns('A549', 'sars-cov2')\n",
    "\n",
    "labels_a549 = [0] * len(cols_healthy_A549) + [1] * len(cols_cov2_A549)\n",
    "\n",
    "data_a549 = dt.get_data('A549', 'healthy', 'sars-cov2')\n",
    "\n",
    "filtered_data_a549 = dt.get_p_values('mannwhitneyu', data_a549, cols_healthy_A549, cols_cov2_A549, limit = 0.001)\n",
    "filtered_data_a549.drop(['p-value'], axis = 1, inplace = True)\n",
    "\n",
    "filtered_data_a549"
   ]
  },
  {
   "cell_type": "code",
   "execution_count": null,
   "metadata": {
    "tags": []
   },
   "outputs": [],
   "source": [
    "len(filtered_data_a549.index)"
   ]
  },
  {
   "cell_type": "code",
   "execution_count": null,
   "metadata": {},
   "outputs": [],
   "source": [
    "parameters = {\n",
    "    'random_state': 42, \n",
    "    'n_estimators': 100, \n",
    "    'criterion': \"gini\", \n",
    "    'max_depth': None, \n",
    "    'min_samples_split': 2, \n",
    "    'min_samples_leaf': 1,\n",
    "    'max_features': \"sqrt\"\n",
    "}\n",
    "\n",
    "results_a549 = dt.apply_loocv(filtered_data_a549.T.values, np.array(labels_a549), RandomForestClassifier(**parameters))\n",
    "results_a549"
   ]
  },
  {
   "cell_type": "code",
   "execution_count": null,
   "metadata": {
    "scrolled": true,
    "tags": []
   },
   "outputs": [],
   "source": [
    "clf_a549 = RandomForestClassifier(**parameters).fit(filtered_data_a549.T.values, np.array(labels_a549))\n",
    "\n",
    "list(sorted(zip(clf_a549.feature_importances_, filtered_data_a549.T.columns), reverse = True))"
   ]
  },
  {
   "cell_type": "code",
   "execution_count": null,
   "metadata": {
    "scrolled": true,
    "tags": []
   },
   "outputs": [],
   "source": [
    "selected_genes_a549 = [x[1] for x in list(sorted(zip(clf_a549.feature_importances_, filtered_data_a549.T.columns), reverse = True)) if x[0] > 0]\n",
    "selected_genes_a549"
   ]
  },
  {
   "cell_type": "code",
   "execution_count": null,
   "metadata": {
    "scrolled": true,
    "tags": []
   },
   "outputs": [],
   "source": [
    "enrichment_a549 = ea.getEnrichment(selected_genes_a549, 'GO_Biological_Process_2021')['GO_Biological_Process_2021']\n",
    "enrichment_a549"
   ]
  },
  {
   "cell_type": "code",
   "execution_count": null,
   "metadata": {},
   "outputs": [],
   "source": [
    "import json\n",
    "\n",
    "with open('results_RandomForest_A549.json', 'w') as file:\n",
    "     file.write(json.dumps(enrichment_a549)) # use `json.loads` to do the reverse"
   ]
  },
  {
   "cell_type": "code",
   "execution_count": null,
   "metadata": {},
   "outputs": [],
   "source": [
    "import json\n",
    "\n",
    "with open('results_RandomForest_A549.json') as file:\n",
    "    enrichment_a549 = json.load(file)"
   ]
  },
  {
   "cell_type": "code",
   "execution_count": null,
   "metadata": {},
   "outputs": [],
   "source": [
    "dataset = {'p-value': [], 'Score': []} #, 'Value': []\n",
    "index_a549 = []\n",
    "\n",
    "cols_healthy_A549 = dt.get_columns('A549', 'healthy')\n",
    "cols_cov2_A549 = dt.get_columns('A549', 'sars-cov2')\n",
    "\n",
    "data_a549 = dt.get_data('A549', 'healthy', 'sars-cov2')\n",
    "\n",
    "for term in enrichment_a549:\n",
    "    index_a549 += [term[1]]\n",
    "    dataset['p-value'] += [term[6]]\n",
    "    dataset['Score'] += [term[4]]\n",
    "    \n",
    "    genes = term[5]\n",
    "    avg_sub = np.mean(data_a549.loc[genes, cols_healthy_A549].values, axis = 1) - np.mean(data_a549.loc[genes, cols_cov2_A549].values, axis = 1)\n",
    "\n",
    "    downs = 0\n",
    "    ups = 0\n",
    "\n",
    "    for e in avg_sub:\n",
    "        if e > 0:\n",
    "            downs += 1\n",
    "        elif e < 0:\n",
    "            ups += 1\n",
    "\n",
    "    #dataset['Value'] += ['%d up, %d down' % (ups, downs)]\n",
    "enrichment_a549_dataset = pd.DataFrame(dataset, index = index_a549)"
   ]
  },
  {
   "cell_type": "code",
   "execution_count": null,
   "metadata": {},
   "outputs": [],
   "source": [
    "len(enrichment_a549_dataset[enrichment_a549_dataset['p-value'] < 0.05].index)"
   ]
  },
  {
   "cell_type": "code",
   "execution_count": null,
   "metadata": {
    "tags": []
   },
   "outputs": [],
   "source": [
    "pd.set_option(\"display.max_rows\", None)\n",
    "selection = enrichment_a549_dataset[enrichment_a549_dataset['p-value'] < 0.05].sort_values('Score', ascending = False)\n",
    "\n",
    "selection['p-value'] = selection['p-value'].map(lambda x: '%.2E' % x)\n",
    "selection['Score'] = selection['Score'].map(lambda x: '%.2f' % x)\n",
    "\n",
    "selection.to_csv('A549_RandomForest_table.csv')\n",
    "selection"
   ]
  },
  {
   "cell_type": "markdown",
   "metadata": {},
   "source": [
    "##### Calu3"
   ]
  },
  {
   "cell_type": "code",
   "execution_count": null,
   "metadata": {
    "tags": []
   },
   "outputs": [],
   "source": [
    "cols_healthy_Calu3 = dt.get_columns('Calu3', 'healthy')\n",
    "cols_cov2_Calu3 = dt.get_columns('Calu3', 'sars-cov2')\n",
    "\n",
    "labels_calu3 = [0] * len(cols_healthy_Calu3) + [1] * len(cols_cov2_Calu3)\n",
    "\n",
    "data_calu3 = dt.get_data('Calu3', 'healthy', 'sars-cov2')\n",
    "\n",
    "filtered_data_calu3 = dt.get_p_values('mannwhitneyu', data_calu3, cols_healthy_Calu3, cols_cov2_Calu3, limit = 0.05)\n",
    "filtered_data_calu3.drop(['p-value'], axis = 1, inplace = True)\n",
    "\n",
    "len(filtered_data_calu3.index)"
   ]
  },
  {
   "cell_type": "code",
   "execution_count": null,
   "metadata": {},
   "outputs": [],
   "source": [
    "parameters = {\n",
    "    'random_state': 42, \n",
    "    'n_estimators': 100, \n",
    "    'criterion': \"entropy\", \n",
    "    'max_depth': None, \n",
    "    'min_samples_split': 3, \n",
    "    'min_samples_leaf': 2,\n",
    "    'max_features': \"log2\"\n",
    "}\n",
    "\n",
    "stats_calu3 = dt.apply_loocv(filtered_data_calu3.T.values, np.array(labels_calu3), RandomForestClassifier(**parameters))\n",
    "stats_calu3"
   ]
  },
  {
   "cell_type": "code",
   "execution_count": null,
   "metadata": {
    "scrolled": true,
    "tags": []
   },
   "outputs": [],
   "source": [
    "clf_calu3 = RandomForestClassifier(**parameters).fit(filtered_data_calu3.T.values, np.array(labels_calu3))\n",
    "\n",
    "list(sorted(zip(clf_calu3.feature_importances_, filtered_data_calu3.T.columns), reverse = True))"
   ]
  },
  {
   "cell_type": "code",
   "execution_count": null,
   "metadata": {
    "scrolled": true,
    "tags": []
   },
   "outputs": [],
   "source": [
    "selected_genes_calu3 = [x[1] for x in list(sorted(zip(clf_calu3.feature_importances_, filtered_data_calu3.T.columns), reverse = True)) if x[0] > 0]\n",
    "selected_genes_calu3"
   ]
  },
  {
   "cell_type": "code",
   "execution_count": null,
   "metadata": {
    "scrolled": true,
    "tags": []
   },
   "outputs": [],
   "source": [
    "results_calu3 = ea.getEnrichment(selected_genes_calu3, 'GO_Biological_Process_2021')['GO_Biological_Process_2021']\n",
    "results_calu3"
   ]
  },
  {
   "cell_type": "code",
   "execution_count": null,
   "metadata": {},
   "outputs": [],
   "source": [
    "import json\n",
    "\n",
    "with open('results_RandomForest_Calu3.json', 'w') as file:\n",
    "     #file.write(json.dumps(results_calu3)) # use `json.loads` to do the reverse"
   ]
  },
  {
   "cell_type": "code",
   "execution_count": null,
   "metadata": {},
   "outputs": [],
   "source": [
    "import json\n",
    "\n",
    "with open('results_RandomForest_Calu3.json') as file:\n",
    "    results_calu3 = json.load(file)"
   ]
  },
  {
   "cell_type": "code",
   "execution_count": null,
   "metadata": {},
   "outputs": [],
   "source": [
    "dataset = {'p-value': [], 'Score': [], 'Value': []}\n",
    "index_calu3 = []\n",
    "\n",
    "cols_healthy_Calu3 = dt.get_columns('Calu3', 'healthy')\n",
    "cols_cov2_Calu3 = dt.get_columns('Calu3', 'sars-cov2')\n",
    "\n",
    "data_calu3 = dt.get_data('Calu3', 'healthy', 'sars-cov2')\n",
    "\n",
    "for term in results_calu3:\n",
    "    index_calu3 += [term[1]]\n",
    "    dataset['p-value'] += [term[6]]\n",
    "    dataset['Score'] += [term[4]]\n",
    "    \n",
    "    genes = term[5]\n",
    "    avg_sub = np.mean(data_calu3.loc[genes, cols_healthy_Calu3].values, axis = 1) - np.mean(data_calu3.loc[genes, cols_cov2_Calu3].values, axis = 1)\n",
    "\n",
    "    downs = 0\n",
    "    ups = 0\n",
    "\n",
    "    for e in avg_sub:\n",
    "        if e > 0:\n",
    "            downs += 1\n",
    "        elif e < 0:\n",
    "            ups += 1\n",
    "\n",
    "    dataset['Value'] += ['%d up, %d down' % (ups, downs)]\n",
    "    \n",
    "enrichment_calu3_dataset = pd.DataFrame(dataset, index = index_calu3)"
   ]
  },
  {
   "cell_type": "code",
   "execution_count": null,
   "metadata": {
    "tags": []
   },
   "outputs": [],
   "source": [
    "pd.set_option(\"display.max_rows\", None)\n",
    "selection = enrichment_calu3_dataset[enrichment_calu3_dataset['p-value'] < 0.05].sort_values('Score', ascending = False).head(25)[['p-value', 'Score']]\n",
    "\n",
    "selection['p-value'] = selection['p-value'].map(lambda x: '%.2E' % x)\n",
    "selection['Score'] = selection['Score'].map(lambda x: '%.2f' % x)\n",
    "\n",
    "selection.to_csv('Calu3_RandomForest_table.csv')\n",
    "selection"
   ]
  },
  {
   "cell_type": "code",
   "execution_count": null,
   "metadata": {},
   "outputs": [],
   "source": []
  }
 ],
 "metadata": {
  "kernelspec": {
   "display_name": "Python 3",
   "language": "python",
   "name": "python3"
  },
  "language_info": {
   "codemirror_mode": {
    "name": "ipython",
    "version": 3
   },
   "file_extension": ".py",
   "mimetype": "text/x-python",
   "name": "python",
   "nbconvert_exporter": "python",
   "pygments_lexer": "ipython3",
   "version": "3.8.8"
  }
 },
 "nbformat": 4,
 "nbformat_minor": 4
}
