{
 "cells": [
  {
   "cell_type": "code",
   "execution_count": 41,
   "metadata": {},
   "outputs": [],
   "source": [
    "import dataInterpreter as dt\n",
    "import numpy as np\n",
    "import matplotlib.pyplot as plt\n",
    "import pandas as pd\n",
    "import scipy.cluster.hierarchy as sch\n",
    "from sklearn.cluster import AgglomerativeClustering \n",
    "from scipy.cluster.hierarchy import linkage, fcluster\n",
    "from scipy.spatial.distance import squareform\n",
    "from sklearn.metrics import adjusted_rand_score"
   ]
  },
  {
   "cell_type": "code",
   "execution_count": 14,
   "metadata": {},
   "outputs": [
    {
     "data": {
      "text/html": [
       "<div>\n",
       "<style scoped>\n",
       "    .dataframe tbody tr th:only-of-type {\n",
       "        vertical-align: middle;\n",
       "    }\n",
       "\n",
       "    .dataframe tbody tr th {\n",
       "        vertical-align: top;\n",
       "    }\n",
       "\n",
       "    .dataframe thead th {\n",
       "        text-align: right;\n",
       "    }\n",
       "</style>\n",
       "<table border=\"1\" class=\"dataframe\">\n",
       "  <thead>\n",
       "    <tr style=\"text-align: right;\">\n",
       "      <th></th>\n",
       "      <th>Series1_NHBE_Mock_1</th>\n",
       "      <th>Series1_NHBE_Mock_2</th>\n",
       "      <th>Series1_NHBE_Mock_3</th>\n",
       "      <th>Series1_NHBE_SARS-CoV-2_1</th>\n",
       "      <th>Series1_NHBE_SARS-CoV-2_2</th>\n",
       "      <th>Series1_NHBE_SARS-CoV-2_3</th>\n",
       "      <th>p-value</th>\n",
       "    </tr>\n",
       "  </thead>\n",
       "  <tbody>\n",
       "    <tr>\n",
       "      <th>SMIM1</th>\n",
       "      <td>1.609438</td>\n",
       "      <td>1.791759</td>\n",
       "      <td>1.945910</td>\n",
       "      <td>2.079442</td>\n",
       "      <td>2.397895</td>\n",
       "      <td>2.484907</td>\n",
       "      <td>0.026549</td>\n",
       "    </tr>\n",
       "    <tr>\n",
       "      <th>CA6</th>\n",
       "      <td>0.000000</td>\n",
       "      <td>0.000000</td>\n",
       "      <td>0.000000</td>\n",
       "      <td>0.693147</td>\n",
       "      <td>0.693147</td>\n",
       "      <td>1.098612</td>\n",
       "      <td>0.003592</td>\n",
       "    </tr>\n",
       "    <tr>\n",
       "      <th>C1orf127</th>\n",
       "      <td>0.000000</td>\n",
       "      <td>0.000000</td>\n",
       "      <td>0.000000</td>\n",
       "      <td>1.098612</td>\n",
       "      <td>1.386294</td>\n",
       "      <td>0.693147</td>\n",
       "      <td>0.006217</td>\n",
       "    </tr>\n",
       "    <tr>\n",
       "      <th>WNT4</th>\n",
       "      <td>4.262680</td>\n",
       "      <td>4.553877</td>\n",
       "      <td>4.615121</td>\n",
       "      <td>5.209486</td>\n",
       "      <td>4.844187</td>\n",
       "      <td>5.451038</td>\n",
       "      <td>0.028973</td>\n",
       "    </tr>\n",
       "    <tr>\n",
       "      <th>IFI6</th>\n",
       "      <td>3.912023</td>\n",
       "      <td>4.521789</td>\n",
       "      <td>3.637586</td>\n",
       "      <td>5.337538</td>\n",
       "      <td>5.455321</td>\n",
       "      <td>6.816736</td>\n",
       "      <td>0.027099</td>\n",
       "    </tr>\n",
       "    <tr>\n",
       "      <th>...</th>\n",
       "      <td>...</td>\n",
       "      <td>...</td>\n",
       "      <td>...</td>\n",
       "      <td>...</td>\n",
       "      <td>...</td>\n",
       "      <td>...</td>\n",
       "      <td>...</td>\n",
       "    </tr>\n",
       "    <tr>\n",
       "      <th>MAOB</th>\n",
       "      <td>3.367296</td>\n",
       "      <td>3.465736</td>\n",
       "      <td>3.218876</td>\n",
       "      <td>2.484907</td>\n",
       "      <td>2.639057</td>\n",
       "      <td>2.639057</td>\n",
       "      <td>0.000984</td>\n",
       "    </tr>\n",
       "    <tr>\n",
       "      <th>PFKFB1</th>\n",
       "      <td>0.693147</td>\n",
       "      <td>0.693147</td>\n",
       "      <td>0.000000</td>\n",
       "      <td>1.791759</td>\n",
       "      <td>1.609438</td>\n",
       "      <td>1.386294</td>\n",
       "      <td>0.011914</td>\n",
       "    </tr>\n",
       "    <tr>\n",
       "      <th>MIR503</th>\n",
       "      <td>1.386294</td>\n",
       "      <td>1.098612</td>\n",
       "      <td>1.098612</td>\n",
       "      <td>0.693147</td>\n",
       "      <td>0.000000</td>\n",
       "      <td>0.000000</td>\n",
       "      <td>0.018281</td>\n",
       "    </tr>\n",
       "    <tr>\n",
       "      <th>PNMA3</th>\n",
       "      <td>0.000000</td>\n",
       "      <td>0.000000</td>\n",
       "      <td>0.000000</td>\n",
       "      <td>0.693147</td>\n",
       "      <td>0.693147</td>\n",
       "      <td>1.791759</td>\n",
       "      <td>0.044438</td>\n",
       "    </tr>\n",
       "    <tr>\n",
       "      <th>PDZD4</th>\n",
       "      <td>0.000000</td>\n",
       "      <td>0.000000</td>\n",
       "      <td>0.000000</td>\n",
       "      <td>1.386294</td>\n",
       "      <td>0.693147</td>\n",
       "      <td>1.098612</td>\n",
       "      <td>0.006217</td>\n",
       "    </tr>\n",
       "  </tbody>\n",
       "</table>\n",
       "<p>191 rows × 7 columns</p>\n",
       "</div>"
      ],
      "text/plain": [
       "          Series1_NHBE_Mock_1  Series1_NHBE_Mock_2  Series1_NHBE_Mock_3  \\\n",
       "SMIM1                1.609438             1.791759             1.945910   \n",
       "CA6                  0.000000             0.000000             0.000000   \n",
       "C1orf127             0.000000             0.000000             0.000000   \n",
       "WNT4                 4.262680             4.553877             4.615121   \n",
       "IFI6                 3.912023             4.521789             3.637586   \n",
       "...                       ...                  ...                  ...   \n",
       "MAOB                 3.367296             3.465736             3.218876   \n",
       "PFKFB1               0.693147             0.693147             0.000000   \n",
       "MIR503               1.386294             1.098612             1.098612   \n",
       "PNMA3                0.000000             0.000000             0.000000   \n",
       "PDZD4                0.000000             0.000000             0.000000   \n",
       "\n",
       "          Series1_NHBE_SARS-CoV-2_1  Series1_NHBE_SARS-CoV-2_2  \\\n",
       "SMIM1                      2.079442                   2.397895   \n",
       "CA6                        0.693147                   0.693147   \n",
       "C1orf127                   1.098612                   1.386294   \n",
       "WNT4                       5.209486                   4.844187   \n",
       "IFI6                       5.337538                   5.455321   \n",
       "...                             ...                        ...   \n",
       "MAOB                       2.484907                   2.639057   \n",
       "PFKFB1                     1.791759                   1.609438   \n",
       "MIR503                     0.693147                   0.000000   \n",
       "PNMA3                      0.693147                   0.693147   \n",
       "PDZD4                      1.386294                   0.693147   \n",
       "\n",
       "          Series1_NHBE_SARS-CoV-2_3   p-value  \n",
       "SMIM1                      2.484907  0.026549  \n",
       "CA6                        1.098612  0.003592  \n",
       "C1orf127                   0.693147  0.006217  \n",
       "WNT4                       5.451038  0.028973  \n",
       "IFI6                       6.816736  0.027099  \n",
       "...                             ...       ...  \n",
       "MAOB                       2.639057  0.000984  \n",
       "PFKFB1                     1.386294  0.011914  \n",
       "MIR503                     0.000000  0.018281  \n",
       "PNMA3                      1.791759  0.044438  \n",
       "PDZD4                      1.098612  0.006217  \n",
       "\n",
       "[191 rows x 7 columns]"
      ]
     },
     "execution_count": 14,
     "metadata": {},
     "output_type": "execute_result"
    }
   ],
   "source": [
    "filtered_data = dt.get_p_values('welch', dt.get_data_by_series(1), dt.get_columns('NHBE', 'healthy', series = (1,)), dt.get_columns('NHBE', 'sars-cov2', series = (1,)))\n",
    "filtered_data"
   ]
  },
  {
   "cell_type": "code",
   "execution_count": 16,
   "metadata": {},
   "outputs": [
    {
     "data": {
      "image/png": "[encoded data removed]",
      "text/plain": [
       "<Figure size 1800x720 with 1 Axes>"
      ]
     },
     "metadata": {
      "needs_background": "light"
     },
     "output_type": "display_data"
    }
   ],
   "source": [
    "filtered_data.drop(['p-value'], axis = 1, inplace = True)\n",
    "dt.plot_dendrogram(filtered_data)"
   ]
  },
  {
   "cell_type": "code",
   "execution_count": 28,
   "metadata": {},
   "outputs": [],
   "source": [
    "labels = {}\n",
    "\n",
    "models = AgglomerativeClustering(n_clusters = 3, affinity = 'euclidean', linkage ='ward')\n",
    "labels['distance'] = models.fit_predict(filtered_data)"
   ]
  },
  {
   "cell_type": "code",
   "execution_count": 29,
   "metadata": {},
   "outputs": [
    {
     "data": {
      "text/plain": [
       "array([0, 0, 0, 1, 1, 0, 0, 2, 0, 1, 0, 1, 1, 1, 2, 1, 0, 0, 1, 2, 0, 0,\n",
       "       0, 0, 1, 0, 0, 0, 0, 0, 0, 1, 0, 1, 0, 2, 2, 0, 0, 0, 0, 0, 1, 1,\n",
       "       0, 0, 0, 0, 0, 1, 0, 0, 0, 0, 0, 0, 0, 1, 2, 1, 2, 0, 0, 0, 1, 0,\n",
       "       1, 0, 0, 1, 0, 0, 0, 0, 0, 0, 0, 0, 1, 1, 0, 0, 0, 0, 0, 0, 1, 0,\n",
       "       0, 0, 0, 0, 0, 0, 1, 0, 1, 2, 2, 0, 0, 0, 1, 0, 0, 0, 0, 1, 0, 0,\n",
       "       0, 0, 0, 1, 0, 0, 0, 1, 1, 0, 0, 0, 0, 1, 1, 0, 0, 2, 0, 1, 0, 0,\n",
       "       1, 0, 0, 0, 0, 2, 1, 1, 2, 0, 0, 0, 1, 0, 0, 1, 1, 1, 2, 1, 0, 0,\n",
       "       0, 0, 1, 0, 0, 2, 0, 2, 0, 1, 0, 0, 2, 0, 0, 0, 0, 0, 0, 0, 0, 0,\n",
       "       0, 0, 0, 0, 0, 0, 0, 0, 0, 0, 0, 0, 0, 0, 0], dtype=int64)"
      ]
     },
     "execution_count": 29,
     "metadata": {},
     "output_type": "execute_result"
    }
   ],
   "source": [
    "labels['distance']"
   ]
  },
  {
   "cell_type": "code",
   "execution_count": 34,
   "metadata": {},
   "outputs": [],
   "source": [
    "dissimilarity = 1 - np.abs(filtered_data.T.corr())\n",
    "hierarchy = linkage(squareform(dissimilarity), method='ward')\n",
    "labels['pearson'] = fcluster(hierarchy, 3, criterion='maxclust') - 1"
   ]
  },
  {
   "cell_type": "code",
   "execution_count": 35,
   "metadata": {},
   "outputs": [
    {
     "data": {
      "text/plain": [
       "array([0, 0, 1, 0, 0, 0, 0, 0, 1, 0, 0, 0, 0, 0, 0, 0, 0, 2, 0, 0, 0, 0,\n",
       "       0, 0, 1, 1, 0, 1, 1, 0, 0, 0, 2, 0, 2, 0, 0, 0, 2, 1, 1, 2, 0, 0,\n",
       "       0, 1, 1, 2, 2, 0, 2, 2, 1, 0, 1, 1, 1, 0, 0, 0, 0, 1, 1, 1, 0, 0,\n",
       "       0, 2, 1, 0, 0, 1, 1, 1, 2, 2, 0, 1, 0, 0, 2, 2, 0, 1, 0, 2, 2, 1,\n",
       "       1, 1, 1, 2, 0, 2, 0, 0, 0, 0, 0, 1, 2, 0, 0, 1, 2, 0, 1, 0, 1, 2,\n",
       "       2, 0, 1, 0, 0, 1, 1, 0, 0, 0, 0, 0, 1, 0, 0, 1, 1, 0, 1, 0, 0, 1,\n",
       "       1, 1, 0, 0, 2, 0, 2, 0, 0, 0, 0, 0, 0, 2, 1, 0, 0, 0, 0, 0, 0, 2,\n",
       "       1, 1, 0, 0, 2, 0, 1, 0, 0, 0, 1, 1, 0, 2, 0, 0, 1, 0, 0, 1, 1, 1,\n",
       "       1, 1, 1, 1, 0, 0, 0, 0, 2, 1, 1, 1, 0, 0, 0], dtype=int32)"
      ]
     },
     "execution_count": 35,
     "metadata": {},
     "output_type": "execute_result"
    }
   ],
   "source": [
    "labels['pearson']"
   ]
  },
  {
   "cell_type": "code",
   "execution_count": 36,
   "metadata": {},
   "outputs": [],
   "source": [
    "dissimilarity = 1 - np.abs(filtered_data.T.corr(method='spearman'))\n",
    "hierarchy = linkage(squareform(dissimilarity), method='ward')\n",
    "labels['spearman'] = fcluster(hierarchy, 3, criterion='maxclust') - 1"
   ]
  },
  {
   "cell_type": "code",
   "execution_count": 37,
   "metadata": {},
   "outputs": [
    {
     "data": {
      "text/plain": [
       "array([1, 2, 0, 1, 2, 1, 2, 1, 0, 2, 2, 2, 2, 1, 1, 1, 1, 0, 1, 1, 2, 2,\n",
       "       1, 2, 0, 0, 2, 2, 0, 1, 2, 1, 0, 1, 0, 1, 2, 0, 0, 0, 0, 0, 1, 1,\n",
       "       2, 0, 0, 1, 0, 1, 0, 2, 0, 2, 0, 0, 0, 2, 1, 2, 1, 0, 0, 0, 1, 2,\n",
       "       1, 2, 0, 1, 2, 0, 2, 0, 2, 2, 2, 0, 2, 1, 2, 0, 2, 0, 1, 2, 1, 0,\n",
       "       0, 0, 0, 1, 2, 0, 1, 1, 1, 1, 1, 0, 2, 2, 1, 0, 0, 1, 0, 1, 0, 0,\n",
       "       0, 2, 0, 1, 2, 2, 0, 2, 1, 2, 2, 1, 0, 2, 2, 0, 0, 1, 2, 1, 2, 0,\n",
       "       0, 0, 2, 1, 1, 1, 1, 2, 1, 2, 2, 2, 2, 2, 0, 1, 1, 1, 1, 2, 2, 2,\n",
       "       0, 0, 2, 1, 2, 1, 0, 1, 2, 2, 0, 0, 1, 0, 2, 1, 0, 1, 1, 0, 0, 0,\n",
       "       0, 0, 2, 0, 1, 1, 2, 2, 1, 0, 0, 0, 1, 2, 0], dtype=int32)"
      ]
     },
     "execution_count": 37,
     "metadata": {},
     "output_type": "execute_result"
    }
   ],
   "source": [
    "labels['spearman']"
   ]
  },
  {
   "cell_type": "code",
   "execution_count": 69,
   "metadata": {},
   "outputs": [
    {
     "name": "stdout",
     "output_type": "stream",
     "text": [
      "distance  vs  pearson :  -0.010228389779375494\n",
      "distance  vs  spearman :  0.1449819115597125\n",
      "pearson  vs  distance :  -0.010228389779375494\n",
      "pearson  vs  spearman :  0.3857351714859874\n",
      "spearman  vs  distance :  0.1449819115597125\n",
      "spearman  vs  pearson :  0.3857351714859874\n"
     ]
    }
   ],
   "source": [
    "from itertools import groupby\n",
    "\n",
    "clusters = {}\n",
    "\n",
    "for key1, label1 in labels.items():\n",
    "    clusters[key1] = [list(map(lambda x: x[0], v)) for k,v in groupby(sorted(zip(filtered_data.index, labels['spearman']), key = lambda x: x[1]), lambda s: s[1])]\n",
    "    \n",
    "    for key2, label2 in labels.items():\n",
    "        if key1 != key2:\n",
    "            print(key1, ' vs ', key2, ': ', adjusted_rand_score(label1, label2))"
   ]
  },
  {
   "cell_type": "code",
   "execution_count": null,
   "metadata": {},
   "outputs": [],
   "source": [
    "i = 0\n",
    "for c in clusters['distance']:\n",
    "    print(\"\\n\\nCluster\", i, \":\\n\")\n",
    "    i += 1\n",
    "    for x in c:\n",
    "        print(x)"
   ]
  },
  {
   "cell_type": "code",
   "execution_count": null,
   "metadata": {},
   "outputs": [],
   "source": [
    "i = 0\n",
    "for c in clusters['pearson']:\n",
    "    print(\"\\n\\nCluster\", i, \":\\n\")\n",
    "    i += 1\n",
    "    for x in c:\n",
    "        print(x)"
   ]
  },
  {
   "cell_type": "code",
   "execution_count": null,
   "metadata": {},
   "outputs": [],
   "source": [
    "i = 0\n",
    "for c in clusters['spearman']:\n",
    "    print(\"\\n\\nCluster\", i, \":\\n\")\n",
    "    i += 1\n",
    "    for x in c:\n",
    "        print(x)"
   ]
  },
  {
   "cell_type": "markdown",
   "metadata": {},
   "source": [
    "## Clustering on columns"
   ]
  },
  {
   "cell_type": "code",
   "execution_count": 99,
   "metadata": {},
   "outputs": [
    {
     "data": {
      "image/png": "[encoded data removed]",
      "text/plain": [
       "<Figure size 1800x720 with 1 Axes>"
      ]
     },
     "metadata": {
      "needs_background": "light"
     },
     "output_type": "display_data"
    }
   ],
   "source": [
    "dt.plot_dendrogram(filtered_data.T)"
   ]
  },
  {
   "cell_type": "code",
   "execution_count": 108,
   "metadata": {},
   "outputs": [
    {
     "data": {
      "text/plain": [
       "array([1, 1, 1, 0, 0, 0], dtype=int64)"
      ]
     },
     "execution_count": 108,
     "metadata": {},
     "output_type": "execute_result"
    }
   ],
   "source": [
    "labels_columns = {}\n",
    "\n",
    "models = AgglomerativeClustering(n_clusters = 2, affinity = 'euclidean', linkage ='ward')\n",
    "labels_columns['distance'] = models.fit_predict(filtered_data.T)\n",
    "\n",
    "labels_columns['distance']"
   ]
  },
  {
   "cell_type": "code",
   "execution_count": null,
   "metadata": {},
   "outputs": [],
   "source": []
  }
 ],
 "metadata": {
  "kernelspec": {
   "display_name": "Python 3",
   "language": "python",
   "name": "python3"
  },
  "language_info": {
   "codemirror_mode": {
    "name": "ipython",
    "version": 3
   },
   "file_extension": ".py",
   "mimetype": "text/x-python",
   "name": "python",
   "nbconvert_exporter": "python",
   "pygments_lexer": "ipython3",
   "version": "3.8.3"
  }
 },
 "nbformat": 4,
 "nbformat_minor": 4
}
