{
 "cells": [
  {
   "cell_type": "code",
   "execution_count": 20,
   "metadata": {},
   "outputs": [],
   "source": [
    "import pandas as pd\n",
    "import matplotlib.pyplot as plt\n",
    "import numpy as np\n",
    "from sklearn.cluster import KMeans\n",
    "\n",
    "data = pd.read_csv('data/GSE147507_RawReadCounts_Human.tsv', index_col = 0, sep = \"\\t\")\n",
    "ferret_data = pd.read_csv('data/GSE147507_RawReadCounts_Ferret.tsv', index_col = 0, sep = \"\\t\")"
   ]
  },
  {
   "cell_type": "code",
   "execution_count": 22,
   "metadata": {},
   "outputs": [
    {
     "data": {
      "text/html": [
       "<div>\n",
       "<style scoped>\n",
       "    .dataframe tbody tr th:only-of-type {\n",
       "        vertical-align: middle;\n",
       "    }\n",
       "\n",
       "    .dataframe tbody tr th {\n",
       "        vertical-align: top;\n",
       "    }\n",
       "\n",
       "    .dataframe thead th {\n",
       "        text-align: right;\n",
       "    }\n",
       "</style>\n",
       "<table border=\"1\" class=\"dataframe\">\n",
       "  <thead>\n",
       "    <tr style=\"text-align: right;\">\n",
       "      <th></th>\n",
       "      <th>Series1_NHBE_Mock_1</th>\n",
       "      <th>Series1_NHBE_Mock_2</th>\n",
       "      <th>Series1_NHBE_Mock_3</th>\n",
       "      <th>Series1_NHBE_SARS-CoV-2_1</th>\n",
       "      <th>Series1_NHBE_SARS-CoV-2_2</th>\n",
       "      <th>Series1_NHBE_SARS-CoV-2_3</th>\n",
       "      <th>Series2_A549_Mock_1</th>\n",
       "      <th>Series2_A549_Mock_2</th>\n",
       "      <th>Series2_A549_Mock_3</th>\n",
       "      <th>Series2_A549_SARS-CoV-2_1</th>\n",
       "      <th>...</th>\n",
       "      <th>Series15_COVID19Lung_1</th>\n",
       "      <th>Series16_A549-ACE2_Mock_1</th>\n",
       "      <th>Series16_A549-ACE2_Mock_2</th>\n",
       "      <th>Series16_A549-ACE2_Mock_3</th>\n",
       "      <th>Series16_A549-ACE2_SARS-CoV-2_1</th>\n",
       "      <th>Series16_A549-ACE2_SARS-CoV-2_2</th>\n",
       "      <th>Series16_A549-ACE2_SARS-CoV-2_3</th>\n",
       "      <th>Series16_A549-ACE2_SARS-CoV-2_Rux_1</th>\n",
       "      <th>Series16_A549-ACE2_SARS-CoV-2_Rux_2</th>\n",
       "      <th>Series16_A549-ACE2_SARS-CoV-2_Rux_3</th>\n",
       "    </tr>\n",
       "  </thead>\n",
       "  <tbody>\n",
       "    <tr>\n",
       "      <th>DDX11L1</th>\n",
       "      <td>0</td>\n",
       "      <td>0</td>\n",
       "      <td>0</td>\n",
       "      <td>0</td>\n",
       "      <td>0</td>\n",
       "      <td>0</td>\n",
       "      <td>0</td>\n",
       "      <td>0</td>\n",
       "      <td>0</td>\n",
       "      <td>0</td>\n",
       "      <td>...</td>\n",
       "      <td>0</td>\n",
       "      <td>0</td>\n",
       "      <td>0</td>\n",
       "      <td>0</td>\n",
       "      <td>0</td>\n",
       "      <td>0</td>\n",
       "      <td>0</td>\n",
       "      <td>0</td>\n",
       "      <td>0</td>\n",
       "      <td>0</td>\n",
       "    </tr>\n",
       "    <tr>\n",
       "      <th>WASH7P</th>\n",
       "      <td>29</td>\n",
       "      <td>24</td>\n",
       "      <td>23</td>\n",
       "      <td>34</td>\n",
       "      <td>19</td>\n",
       "      <td>44</td>\n",
       "      <td>68</td>\n",
       "      <td>43</td>\n",
       "      <td>33</td>\n",
       "      <td>65</td>\n",
       "      <td>...</td>\n",
       "      <td>0</td>\n",
       "      <td>0</td>\n",
       "      <td>11</td>\n",
       "      <td>7</td>\n",
       "      <td>2</td>\n",
       "      <td>6</td>\n",
       "      <td>5</td>\n",
       "      <td>12</td>\n",
       "      <td>6</td>\n",
       "      <td>8</td>\n",
       "    </tr>\n",
       "    <tr>\n",
       "      <th>FAM138A</th>\n",
       "      <td>0</td>\n",
       "      <td>0</td>\n",
       "      <td>0</td>\n",
       "      <td>0</td>\n",
       "      <td>0</td>\n",
       "      <td>0</td>\n",
       "      <td>0</td>\n",
       "      <td>0</td>\n",
       "      <td>0</td>\n",
       "      <td>0</td>\n",
       "      <td>...</td>\n",
       "      <td>0</td>\n",
       "      <td>0</td>\n",
       "      <td>0</td>\n",
       "      <td>0</td>\n",
       "      <td>0</td>\n",
       "      <td>0</td>\n",
       "      <td>0</td>\n",
       "      <td>0</td>\n",
       "      <td>0</td>\n",
       "      <td>0</td>\n",
       "    </tr>\n",
       "    <tr>\n",
       "      <th>FAM138F</th>\n",
       "      <td>0</td>\n",
       "      <td>0</td>\n",
       "      <td>0</td>\n",
       "      <td>0</td>\n",
       "      <td>0</td>\n",
       "      <td>0</td>\n",
       "      <td>0</td>\n",
       "      <td>0</td>\n",
       "      <td>0</td>\n",
       "      <td>0</td>\n",
       "      <td>...</td>\n",
       "      <td>0</td>\n",
       "      <td>0</td>\n",
       "      <td>0</td>\n",
       "      <td>0</td>\n",
       "      <td>0</td>\n",
       "      <td>0</td>\n",
       "      <td>0</td>\n",
       "      <td>0</td>\n",
       "      <td>0</td>\n",
       "      <td>0</td>\n",
       "    </tr>\n",
       "    <tr>\n",
       "      <th>OR4F5</th>\n",
       "      <td>0</td>\n",
       "      <td>0</td>\n",
       "      <td>0</td>\n",
       "      <td>0</td>\n",
       "      <td>0</td>\n",
       "      <td>0</td>\n",
       "      <td>0</td>\n",
       "      <td>0</td>\n",
       "      <td>0</td>\n",
       "      <td>0</td>\n",
       "      <td>...</td>\n",
       "      <td>0</td>\n",
       "      <td>0</td>\n",
       "      <td>0</td>\n",
       "      <td>0</td>\n",
       "      <td>0</td>\n",
       "      <td>0</td>\n",
       "      <td>0</td>\n",
       "      <td>0</td>\n",
       "      <td>0</td>\n",
       "      <td>0</td>\n",
       "    </tr>\n",
       "  </tbody>\n",
       "</table>\n",
       "<p>5 rows × 78 columns</p>\n",
       "</div>"
      ],
      "text/plain": [
       "         Series1_NHBE_Mock_1  Series1_NHBE_Mock_2  Series1_NHBE_Mock_3  \\\n",
       "DDX11L1                    0                    0                    0   \n",
       "WASH7P                    29                   24                   23   \n",
       "FAM138A                    0                    0                    0   \n",
       "FAM138F                    0                    0                    0   \n",
       "OR4F5                      0                    0                    0   \n",
       "\n",
       "         Series1_NHBE_SARS-CoV-2_1  Series1_NHBE_SARS-CoV-2_2  \\\n",
       "DDX11L1                          0                          0   \n",
       "WASH7P                          34                         19   \n",
       "FAM138A                          0                          0   \n",
       "FAM138F                          0                          0   \n",
       "OR4F5                            0                          0   \n",
       "\n",
       "         Series1_NHBE_SARS-CoV-2_3  Series2_A549_Mock_1  Series2_A549_Mock_2  \\\n",
       "DDX11L1                          0                    0                    0   \n",
       "WASH7P                          44                   68                   43   \n",
       "FAM138A                          0                    0                    0   \n",
       "FAM138F                          0                    0                    0   \n",
       "OR4F5                            0                    0                    0   \n",
       "\n",
       "         Series2_A549_Mock_3  Series2_A549_SARS-CoV-2_1  ...  \\\n",
       "DDX11L1                    0                          0  ...   \n",
       "WASH7P                    33                         65  ...   \n",
       "FAM138A                    0                          0  ...   \n",
       "FAM138F                    0                          0  ...   \n",
       "OR4F5                      0                          0  ...   \n",
       "\n",
       "         Series15_COVID19Lung_1  Series16_A549-ACE2_Mock_1  \\\n",
       "DDX11L1                       0                          0   \n",
       "WASH7P                        0                          0   \n",
       "FAM138A                       0                          0   \n",
       "FAM138F                       0                          0   \n",
       "OR4F5                         0                          0   \n",
       "\n",
       "         Series16_A549-ACE2_Mock_2  Series16_A549-ACE2_Mock_3  \\\n",
       "DDX11L1                          0                          0   \n",
       "WASH7P                          11                          7   \n",
       "FAM138A                          0                          0   \n",
       "FAM138F                          0                          0   \n",
       "OR4F5                            0                          0   \n",
       "\n",
       "         Series16_A549-ACE2_SARS-CoV-2_1  Series16_A549-ACE2_SARS-CoV-2_2  \\\n",
       "DDX11L1                                0                                0   \n",
       "WASH7P                                 2                                6   \n",
       "FAM138A                                0                                0   \n",
       "FAM138F                                0                                0   \n",
       "OR4F5                                  0                                0   \n",
       "\n",
       "         Series16_A549-ACE2_SARS-CoV-2_3  Series16_A549-ACE2_SARS-CoV-2_Rux_1  \\\n",
       "DDX11L1                                0                                    0   \n",
       "WASH7P                                 5                                   12   \n",
       "FAM138A                                0                                    0   \n",
       "FAM138F                                0                                    0   \n",
       "OR4F5                                  0                                    0   \n",
       "\n",
       "         Series16_A549-ACE2_SARS-CoV-2_Rux_2  \\\n",
       "DDX11L1                                    0   \n",
       "WASH7P                                     6   \n",
       "FAM138A                                    0   \n",
       "FAM138F                                    0   \n",
       "OR4F5                                      0   \n",
       "\n",
       "         Series16_A549-ACE2_SARS-CoV-2_Rux_3  \n",
       "DDX11L1                                    0  \n",
       "WASH7P                                     8  \n",
       "FAM138A                                    0  \n",
       "FAM138F                                    0  \n",
       "OR4F5                                      0  \n",
       "\n",
       "[5 rows x 78 columns]"
      ]
     },
     "execution_count": 22,
     "metadata": {},
     "output_type": "execute_result"
    }
   ],
   "source": [
    "data.head()"
   ]
  },
  {
   "cell_type": "code",
   "execution_count": 41,
   "metadata": {},
   "outputs": [
    {
     "name": "stdout",
     "output_type": "stream",
     "text": [
      "Series10_FerretNW_Ctl_d1_1\n",
      "Series10_FerretNW_Ctl_d1_2\n",
      "Series10_FerretNW_SARS-CoV-2_d1_1\n",
      "Series10_FerretNW_SARS-CoV-2_d1_2\n",
      "Series11_FerretNW_Ctl_d3_1\n",
      "Series11_FerretNW_Ctl_d3_2\n",
      "Series11_FerretNW_SARS-CoV-2_d3_1\n",
      "Series11_FerretNW_SARS-CoV-2_d3_2\n",
      "Series12_FerretNW_Ctl_d7_1\n",
      "Series12_FerretNW_Ctl_d7_2\n",
      "Series12_FerretNW_SARS-CoV-2_d7_1\n",
      "Series12_FerretNW_SARS-CoV-2_d7_2\n",
      "Series12_FerretNW_IAV_d7_1\n",
      "Series12_FerretNW_IAV_d7_2\n",
      "Series13_FerretNW_Ctl_d14_1\n",
      "Series13_FerretNW_Ctl_d14_2\n",
      "Series13_FerretNW_SARS-CoV-2_d14_1\n",
      "Series13_FerretNW_SARS-CoV-2_d14_2\n",
      "Series14_FerretTrachea_Ctl_d3_1\n",
      "Series14_FerretTrachea_Ctl_d3_2\n",
      "Series14_FerretTrachea_Ctl_d3_3\n",
      "Series14_FerretTrachea_Ctl_d3_4\n",
      "Series14_FerretTrachea_IAV_d3_3\n",
      "Series14_FerretTrachea_IAV_d3_5\n",
      "Series14_FerretTrachea_IAV_d3_2\n",
      "Series14_FerretTrachea_IAV_d3_1\n",
      "Series14_FerretTrachea_IAV_d3_4\n",
      "Series14_FerretTrachea_IAV_d3_6\n",
      "Series14_FerretTrachea_SARS-CoV-2_d3_1\n",
      "Series14_FerretTrachea_SARS-CoV-2_d3_2\n",
      "Series14_FerretTrachea_SARS-CoV-2_d3_3\n",
      "Series14_FerretTrachea_SARS-CoV-2_d3_4\n"
     ]
    }
   ],
   "source": [
    "for col_name in ferret_data.columns:\n",
    "    if '' in col_name:\n",
    "        print(col_name)"
   ]
  },
  {
   "cell_type": "markdown",
   "metadata": {},
   "source": [
    "We have 13 total non infected sets of data for A549 cells and 7 for NHBE cells"
   ]
  },
  {
   "cell_type": "code",
   "execution_count": 4,
   "metadata": {},
   "outputs": [
    {
     "name": "stdout",
     "output_type": "stream",
     "text": [
      "['Series1_NHBE_Mock_1', 'Series1_NHBE_Mock_2', 'Series1_NHBE_Mock_3', 'Series9_NHBE_Mock_1', 'Series9_NHBE_Mock_2', 'Series9_NHBE_Mock_3', 'Series9_NHBE_Mock_4']\n",
      "Series1_NHBE_Mock_1 :  -0.16053613247788198\n",
      "Series1_NHBE_Mock_2 :  -0.13773099738328995\n",
      "Series1_NHBE_Mock_3 :  -0.4321608263194894\n",
      "Series9_NHBE_Mock_1 :  0.3770570180274986\n",
      "Series9_NHBE_Mock_2 :  0.3603962943479907\n",
      "Series9_NHBE_Mock_3 :  0.20839047887026593\n",
      "Series9_NHBE_Mock_4 :  -0.21541583506512552\n"
     ]
    }
   ],
   "source": [
    "NHBE_mock_cols = [col for col in data.columns if '_NHBE_Mock_' in col]\n",
    "print(NHBE_mock_cols)\n",
    "\n",
    "NHBE_mock_data = data[NHBE_mock_cols]\n",
    "NHBE_mock_data = np.log(NHBE_mock_data + 1)\n",
    "\n",
    "NHBE_mock_mean = NHBE_mock_data.mean(axis = 1)\n",
    "\n",
    "for col in NHBE_mock_cols:\n",
    "    print(col, \": \", np.mean(NHBE_mock_mean - NHBE_mock_data[col]))"
   ]
  },
  {
   "cell_type": "markdown",
   "metadata": {},
   "source": [
    "Now check against the infected cells"
   ]
  },
  {
   "cell_type": "code",
   "execution_count": 5,
   "metadata": {},
   "outputs": [
    {
     "name": "stdout",
     "output_type": "stream",
     "text": [
      "['Series1_NHBE_SARS-CoV-2_1', 'Series1_NHBE_SARS-CoV-2_2', 'Series1_NHBE_SARS-CoV-2_3']\n",
      "Series1_NHBE_SARS-CoV-2_1 :  -0.10174996579978547\n",
      "Series1_NHBE_SARS-CoV-2_2 :  -0.06765540286820232\n",
      "Series1_NHBE_SARS-CoV-2_3 :  -0.7694351343108244\n"
     ]
    }
   ],
   "source": [
    "NHBE_infected_cols = [col for col in data.columns if '_NHBE_SARS-CoV-2_' in col]\n",
    "print(NHBE_infected_cols)\n",
    "\n",
    "NHBE_infected_data = data[NHBE_infected_cols]\n",
    "NHBE_infected_data = np.log(NHBE_infected_data + 1)\n",
    "\n",
    "for col in NHBE_infected_cols:\n",
    "    print(col, \": \", np.mean(NHBE_mock_mean - NHBE_infected_data[col]))"
   ]
  },
  {
   "cell_type": "code",
   "execution_count": 6,
   "metadata": {},
   "outputs": [
    {
     "name": "stdout",
     "output_type": "stream",
     "text": [
      "[[0.         4.15669354 0.         ... 0.         0.         0.        ]\n",
      " [0.         3.26604235 0.         ... 0.         0.         0.        ]]\n",
      "[1 1 1 0 0 0 0]\n"
     ]
    }
   ],
   "source": [
    "kmeans = KMeans(n_clusters=2).fit(NHBE_mock_data.transpose())\n",
    "centroids = kmeans.cluster_centers_\n",
    "print(centroids)\n",
    "print(kmeans.labels_)"
   ]
  },
  {
   "cell_type": "code",
   "execution_count": 42,
   "metadata": {},
   "outputs": [
    {
     "name": "stdout",
     "output_type": "stream",
     "text": [
      "['Series2_A549_Mock_1', 'Series2_A549_Mock_2', 'Series2_A549_Mock_3', 'Series3_A549_Mock_1', 'Series3_A549_Mock_2', 'Series4_A549_Mock_1', 'Series4_A549_Mock_2', 'Series5_A549_Mock_1', 'Series5_A549_Mock_2', 'Series5_A549_Mock_3', 'Series8_A549_Mock_1', 'Series8_A549_Mock_2', 'Series8_A549_Mock_3']\n",
      "Series2_A549_Mock_1 :  -0.4733584359656635\n",
      "Series2_A549_Mock_2 :  -0.06654762709011193\n",
      "Series2_A549_Mock_3 :  0.12852970495951851\n",
      "Series3_A549_Mock_1 :  -0.4789973449241167\n",
      "Series3_A549_Mock_2 :  -0.3945568649661241\n",
      "Series4_A549_Mock_1 :  0.6188510651706531\n",
      "Series4_A549_Mock_2 :  0.18585656883117857\n",
      "Series5_A549_Mock_1 :  -0.4121845774461028\n",
      "Series5_A549_Mock_2 :  -0.36944089003475994\n",
      "Series5_A549_Mock_3 :  -0.3260568264902631\n",
      "Series8_A549_Mock_1 :  1.0031763113691967\n",
      "Series8_A549_Mock_2 :  0.468759641509843\n",
      "Series8_A549_Mock_3 :  0.11596927507678936\n"
     ]
    },
    {
     "data": {
      "text/html": [
       "<div>\n",
       "<style scoped>\n",
       "    .dataframe tbody tr th:only-of-type {\n",
       "        vertical-align: middle;\n",
       "    }\n",
       "\n",
       "    .dataframe tbody tr th {\n",
       "        vertical-align: top;\n",
       "    }\n",
       "\n",
       "    .dataframe thead th {\n",
       "        text-align: right;\n",
       "    }\n",
       "</style>\n",
       "<table border=\"1\" class=\"dataframe\">\n",
       "  <thead>\n",
       "    <tr style=\"text-align: right;\">\n",
       "      <th></th>\n",
       "      <th>Series2_A549_Mock_1</th>\n",
       "      <th>Series2_A549_Mock_2</th>\n",
       "      <th>Series2_A549_Mock_3</th>\n",
       "      <th>Series3_A549_Mock_1</th>\n",
       "      <th>Series3_A549_Mock_2</th>\n",
       "      <th>Series4_A549_Mock_1</th>\n",
       "      <th>Series4_A549_Mock_2</th>\n",
       "      <th>Series5_A549_Mock_1</th>\n",
       "      <th>Series5_A549_Mock_2</th>\n",
       "      <th>Series5_A549_Mock_3</th>\n",
       "      <th>Series8_A549_Mock_1</th>\n",
       "      <th>Series8_A549_Mock_2</th>\n",
       "      <th>Series8_A549_Mock_3</th>\n",
       "    </tr>\n",
       "  </thead>\n",
       "  <tbody>\n",
       "    <tr>\n",
       "      <th>DDX11L1</th>\n",
       "      <td>0.000000</td>\n",
       "      <td>0.00000</td>\n",
       "      <td>0.000000</td>\n",
       "      <td>0.693147</td>\n",
       "      <td>0.000000</td>\n",
       "      <td>0.000000</td>\n",
       "      <td>0.000000</td>\n",
       "      <td>0.000000</td>\n",
       "      <td>0.000000</td>\n",
       "      <td>0.000000</td>\n",
       "      <td>0.000000</td>\n",
       "      <td>0.000000</td>\n",
       "      <td>0.000000</td>\n",
       "    </tr>\n",
       "    <tr>\n",
       "      <th>WASH7P</th>\n",
       "      <td>4.234107</td>\n",
       "      <td>3.78419</td>\n",
       "      <td>3.526361</td>\n",
       "      <td>5.220356</td>\n",
       "      <td>4.859812</td>\n",
       "      <td>2.772589</td>\n",
       "      <td>2.564949</td>\n",
       "      <td>4.174387</td>\n",
       "      <td>3.988984</td>\n",
       "      <td>3.637586</td>\n",
       "      <td>4.234107</td>\n",
       "      <td>2.890372</td>\n",
       "      <td>3.091042</td>\n",
       "    </tr>\n",
       "    <tr>\n",
       "      <th>FAM138A</th>\n",
       "      <td>0.000000</td>\n",
       "      <td>0.00000</td>\n",
       "      <td>0.000000</td>\n",
       "      <td>0.000000</td>\n",
       "      <td>0.000000</td>\n",
       "      <td>0.000000</td>\n",
       "      <td>0.000000</td>\n",
       "      <td>0.000000</td>\n",
       "      <td>0.000000</td>\n",
       "      <td>0.000000</td>\n",
       "      <td>0.000000</td>\n",
       "      <td>0.000000</td>\n",
       "      <td>0.000000</td>\n",
       "    </tr>\n",
       "    <tr>\n",
       "      <th>FAM138F</th>\n",
       "      <td>0.000000</td>\n",
       "      <td>0.00000</td>\n",
       "      <td>0.000000</td>\n",
       "      <td>0.000000</td>\n",
       "      <td>0.000000</td>\n",
       "      <td>0.000000</td>\n",
       "      <td>0.000000</td>\n",
       "      <td>0.000000</td>\n",
       "      <td>0.000000</td>\n",
       "      <td>0.000000</td>\n",
       "      <td>0.000000</td>\n",
       "      <td>0.000000</td>\n",
       "      <td>0.000000</td>\n",
       "    </tr>\n",
       "    <tr>\n",
       "      <th>OR4F5</th>\n",
       "      <td>0.000000</td>\n",
       "      <td>0.00000</td>\n",
       "      <td>0.000000</td>\n",
       "      <td>0.000000</td>\n",
       "      <td>0.000000</td>\n",
       "      <td>0.000000</td>\n",
       "      <td>0.000000</td>\n",
       "      <td>0.000000</td>\n",
       "      <td>0.000000</td>\n",
       "      <td>0.000000</td>\n",
       "      <td>0.000000</td>\n",
       "      <td>0.000000</td>\n",
       "      <td>0.000000</td>\n",
       "    </tr>\n",
       "    <tr>\n",
       "      <th>...</th>\n",
       "      <td>...</td>\n",
       "      <td>...</td>\n",
       "      <td>...</td>\n",
       "      <td>...</td>\n",
       "      <td>...</td>\n",
       "      <td>...</td>\n",
       "      <td>...</td>\n",
       "      <td>...</td>\n",
       "      <td>...</td>\n",
       "      <td>...</td>\n",
       "      <td>...</td>\n",
       "      <td>...</td>\n",
       "      <td>...</td>\n",
       "    </tr>\n",
       "    <tr>\n",
       "      <th>CDY1B</th>\n",
       "      <td>0.000000</td>\n",
       "      <td>0.00000</td>\n",
       "      <td>0.000000</td>\n",
       "      <td>0.000000</td>\n",
       "      <td>0.000000</td>\n",
       "      <td>0.000000</td>\n",
       "      <td>0.000000</td>\n",
       "      <td>0.000000</td>\n",
       "      <td>0.000000</td>\n",
       "      <td>0.000000</td>\n",
       "      <td>0.000000</td>\n",
       "      <td>0.000000</td>\n",
       "      <td>0.000000</td>\n",
       "    </tr>\n",
       "    <tr>\n",
       "      <th>CDY1</th>\n",
       "      <td>0.000000</td>\n",
       "      <td>0.00000</td>\n",
       "      <td>0.000000</td>\n",
       "      <td>0.000000</td>\n",
       "      <td>0.000000</td>\n",
       "      <td>0.000000</td>\n",
       "      <td>0.000000</td>\n",
       "      <td>0.000000</td>\n",
       "      <td>0.000000</td>\n",
       "      <td>0.000000</td>\n",
       "      <td>0.000000</td>\n",
       "      <td>0.000000</td>\n",
       "      <td>0.000000</td>\n",
       "    </tr>\n",
       "    <tr>\n",
       "      <th>CSPG4P1Y</th>\n",
       "      <td>0.000000</td>\n",
       "      <td>0.00000</td>\n",
       "      <td>0.000000</td>\n",
       "      <td>0.000000</td>\n",
       "      <td>0.000000</td>\n",
       "      <td>0.000000</td>\n",
       "      <td>0.000000</td>\n",
       "      <td>0.000000</td>\n",
       "      <td>0.000000</td>\n",
       "      <td>0.000000</td>\n",
       "      <td>0.000000</td>\n",
       "      <td>0.000000</td>\n",
       "      <td>0.000000</td>\n",
       "    </tr>\n",
       "    <tr>\n",
       "      <th>GOLGA2P3Y</th>\n",
       "      <td>0.000000</td>\n",
       "      <td>0.00000</td>\n",
       "      <td>0.000000</td>\n",
       "      <td>0.000000</td>\n",
       "      <td>0.000000</td>\n",
       "      <td>0.000000</td>\n",
       "      <td>0.000000</td>\n",
       "      <td>0.000000</td>\n",
       "      <td>0.000000</td>\n",
       "      <td>0.000000</td>\n",
       "      <td>0.000000</td>\n",
       "      <td>0.000000</td>\n",
       "      <td>0.000000</td>\n",
       "    </tr>\n",
       "    <tr>\n",
       "      <th>GOLGA2P2Y</th>\n",
       "      <td>0.000000</td>\n",
       "      <td>0.00000</td>\n",
       "      <td>0.000000</td>\n",
       "      <td>0.000000</td>\n",
       "      <td>0.000000</td>\n",
       "      <td>0.000000</td>\n",
       "      <td>0.000000</td>\n",
       "      <td>0.000000</td>\n",
       "      <td>0.000000</td>\n",
       "      <td>0.000000</td>\n",
       "      <td>0.000000</td>\n",
       "      <td>0.000000</td>\n",
       "      <td>0.000000</td>\n",
       "    </tr>\n",
       "  </tbody>\n",
       "</table>\n",
       "<p>21797 rows × 13 columns</p>\n",
       "</div>"
      ],
      "text/plain": [
       "           Series2_A549_Mock_1  Series2_A549_Mock_2  Series2_A549_Mock_3  \\\n",
       "DDX11L1               0.000000              0.00000             0.000000   \n",
       "WASH7P                4.234107              3.78419             3.526361   \n",
       "FAM138A               0.000000              0.00000             0.000000   \n",
       "FAM138F               0.000000              0.00000             0.000000   \n",
       "OR4F5                 0.000000              0.00000             0.000000   \n",
       "...                        ...                  ...                  ...   \n",
       "CDY1B                 0.000000              0.00000             0.000000   \n",
       "CDY1                  0.000000              0.00000             0.000000   \n",
       "CSPG4P1Y              0.000000              0.00000             0.000000   \n",
       "GOLGA2P3Y             0.000000              0.00000             0.000000   \n",
       "GOLGA2P2Y             0.000000              0.00000             0.000000   \n",
       "\n",
       "           Series3_A549_Mock_1  Series3_A549_Mock_2  Series4_A549_Mock_1  \\\n",
       "DDX11L1               0.693147             0.000000             0.000000   \n",
       "WASH7P                5.220356             4.859812             2.772589   \n",
       "FAM138A               0.000000             0.000000             0.000000   \n",
       "FAM138F               0.000000             0.000000             0.000000   \n",
       "OR4F5                 0.000000             0.000000             0.000000   \n",
       "...                        ...                  ...                  ...   \n",
       "CDY1B                 0.000000             0.000000             0.000000   \n",
       "CDY1                  0.000000             0.000000             0.000000   \n",
       "CSPG4P1Y              0.000000             0.000000             0.000000   \n",
       "GOLGA2P3Y             0.000000             0.000000             0.000000   \n",
       "GOLGA2P2Y             0.000000             0.000000             0.000000   \n",
       "\n",
       "           Series4_A549_Mock_2  Series5_A549_Mock_1  Series5_A549_Mock_2  \\\n",
       "DDX11L1               0.000000             0.000000             0.000000   \n",
       "WASH7P                2.564949             4.174387             3.988984   \n",
       "FAM138A               0.000000             0.000000             0.000000   \n",
       "FAM138F               0.000000             0.000000             0.000000   \n",
       "OR4F5                 0.000000             0.000000             0.000000   \n",
       "...                        ...                  ...                  ...   \n",
       "CDY1B                 0.000000             0.000000             0.000000   \n",
       "CDY1                  0.000000             0.000000             0.000000   \n",
       "CSPG4P1Y              0.000000             0.000000             0.000000   \n",
       "GOLGA2P3Y             0.000000             0.000000             0.000000   \n",
       "GOLGA2P2Y             0.000000             0.000000             0.000000   \n",
       "\n",
       "           Series5_A549_Mock_3  Series8_A549_Mock_1  Series8_A549_Mock_2  \\\n",
       "DDX11L1               0.000000             0.000000             0.000000   \n",
       "WASH7P                3.637586             4.234107             2.890372   \n",
       "FAM138A               0.000000             0.000000             0.000000   \n",
       "FAM138F               0.000000             0.000000             0.000000   \n",
       "OR4F5                 0.000000             0.000000             0.000000   \n",
       "...                        ...                  ...                  ...   \n",
       "CDY1B                 0.000000             0.000000             0.000000   \n",
       "CDY1                  0.000000             0.000000             0.000000   \n",
       "CSPG4P1Y              0.000000             0.000000             0.000000   \n",
       "GOLGA2P3Y             0.000000             0.000000             0.000000   \n",
       "GOLGA2P2Y             0.000000             0.000000             0.000000   \n",
       "\n",
       "           Series8_A549_Mock_3  \n",
       "DDX11L1               0.000000  \n",
       "WASH7P                3.091042  \n",
       "FAM138A               0.000000  \n",
       "FAM138F               0.000000  \n",
       "OR4F5                 0.000000  \n",
       "...                        ...  \n",
       "CDY1B                 0.000000  \n",
       "CDY1                  0.000000  \n",
       "CSPG4P1Y              0.000000  \n",
       "GOLGA2P3Y             0.000000  \n",
       "GOLGA2P2Y             0.000000  \n",
       "\n",
       "[21797 rows x 13 columns]"
      ]
     },
     "execution_count": 42,
     "metadata": {},
     "output_type": "execute_result"
    }
   ],
   "source": [
    "A549_mock_cols = [col for col in data.columns if '_A549_Mock_' in col]\n",
    "print(A549_mock_cols)\n",
    "\n",
    "A549_mock_data = data[A549_mock_cols]\n",
    "A549_mock_data = np.log(A549_mock_data + 1)\n",
    "\n",
    "A549_mock_mean = A549_mock_data.mean(axis = 1)\n",
    "\n",
    "for col in A549_mock_cols:\n",
    "    print(col, \": \", np.mean(A549_mock_mean - A549_mock_data[col]))"
   ]
  },
  {
   "cell_type": "code",
   "execution_count": 8,
   "metadata": {},
   "outputs": [
    {
     "name": "stdout",
     "output_type": "stream",
     "text": [
      "[[0.         3.24163549 0.         ... 0.         0.         0.        ]\n",
      " [0.         2.83148024 0.         ... 0.         0.         0.        ]\n",
      " [0.         4.2341065  0.         ... 0.         0.         0.        ]\n",
      " [0.         4.008766   0.         ... 0.         0.         0.        ]\n",
      " [0.34657359 5.04008411 0.         ... 0.         0.         0.        ]]\n",
      "[3 0 0 4 4 1 0 3 3 3 2 1 0]\n"
     ]
    }
   ],
   "source": [
    "kmeans = KMeans(n_clusters=5).fit(A549_mock_data.transpose())\n",
    "centroids = kmeans.cluster_centers_\n",
    "print(centroids)\n",
    "print(kmeans.labels_)"
   ]
  },
  {
   "cell_type": "code",
   "execution_count": 9,
   "metadata": {},
   "outputs": [
    {
     "name": "stdout",
     "output_type": "stream",
     "text": [
      "['Series2_A549_SARS-CoV-2_1', 'Series2_A549_SARS-CoV-2_2', 'Series2_A549_SARS-CoV-2_3', 'Series5_A549_SARS-CoV-2_1', 'Series5_A549_SARS-CoV-2_2', 'Series5_A549_SARS-CoV-2_3']\n",
      "Series2_A549_SARS-CoV-2_1 :  -0.13906555913463234\n",
      "Series2_A549_SARS-CoV-2_2 :  0.012147579461039464\n",
      "Series2_A549_SARS-CoV-2_3 :  0.20333561593101532\n",
      "Series5_A549_SARS-CoV-2_1 :  0.15844082871311654\n",
      "Series5_A549_SARS-CoV-2_2 :  0.07351064101925174\n",
      "Series5_A549_SARS-CoV-2_3 :  -0.30836910598978995\n"
     ]
    }
   ],
   "source": [
    "A549_infected_cols = [col for col in data.columns if '_A549_SARS-CoV-2_' in col]\n",
    "print(A549_infected_cols)\n",
    "\n",
    "A549_infected_data = data[A549_infected_cols]\n",
    "A549_infected_data = np.log(A549_infected_data + 1)\n",
    "\n",
    "A549_infected_mean = A549_infected_data.mean(axis = 1)\n",
    "\n",
    "for col in A549_infected_cols:\n",
    "    print(col, \": \", np.mean(A549_infected_mean - A549_infected_data[col]))"
   ]
  },
  {
   "cell_type": "markdown",
   "metadata": {},
   "source": [
    "#### PCA for cluster visualization"
   ]
  },
  {
   "cell_type": "code",
   "execution_count": 10,
   "metadata": {},
   "outputs": [
    {
     "name": "stdout",
     "output_type": "stream",
     "text": [
      "['Mock_1', 'Mock_1', 'Mock_1', 'Mock_9', 'Mock_9', 'Mock_9', 'Mock_9', 'SARS-CoV-2_1', 'SARS-CoV-2_1', 'SARS-CoV-2_1']\n",
      "          PC1         PC2          Type\n",
      "0   22.589964  -50.288363        Mock_1\n",
      "1   12.180885  -49.877660        Mock_1\n",
      "2  105.052504  -12.527118        Mock_1\n",
      "3 -143.058483    6.576053        Mock_9\n",
      "4 -138.747173   12.291163        Mock_9\n",
      "5  -94.637406   51.432526        Mock_9\n",
      "6   30.943675  111.344274        Mock_9\n",
      "7    3.001440  -41.527914  SARS-CoV-2_1\n",
      "8   -5.826216  -60.515412  SARS-CoV-2_1\n",
      "9  208.500809   33.092453  SARS-CoV-2_1\n"
     ]
    },
    {
     "data": {
      "text/plain": [
       "array([0.61674514, 0.15820102])"
      ]
     },
     "execution_count": 10,
     "metadata": {},
     "output_type": "execute_result"
    }
   ],
   "source": [
    "from sklearn.decomposition import PCA\n",
    "from sklearn.preprocessing import StandardScaler\n",
    "\n",
    "NHBE_complete_data = pd.concat([NHBE_mock_data, NHBE_infected_data], axis = 1).transpose()\n",
    "raw_y = NHBE_complete_data.index\n",
    "\n",
    "NHBE_complete_data = pd.DataFrame(data = StandardScaler().fit_transform(NHBE_complete_data), columns = NHBE_complete_data.columns)\n",
    "\n",
    "y = []\n",
    "for t in raw_y:\n",
    "    tmp = t.split('_')\n",
    "    y += [tmp[2] + '_' + tmp[0][-1]]\n",
    "\n",
    "print(y)\n",
    "    \n",
    "pca = PCA(n_components=2)\n",
    "\n",
    "principalComponents = pca.fit_transform(NHBE_complete_data)\n",
    "principalDf = pd.DataFrame(data = principalComponents, columns = ['PC1', 'PC2'])\n",
    "principalDf.insert(2, \"Type\", y)\n",
    "\n",
    "print(principalDf)\n",
    "\n",
    "pca.explained_variance_ratio_"
   ]
  },
  {
   "cell_type": "code",
   "execution_count": 11,
   "metadata": {},
   "outputs": [
    {
     "data": {
      "image/png": "[encoded data removed]",
      "text/plain": [
       "<Figure size 576x576 with 1 Axes>"
      ]
     },
     "metadata": {
      "needs_background": "light"
     },
     "output_type": "display_data"
    }
   ],
   "source": [
    "fig = plt.figure(figsize = (8,8))\n",
    "ax = fig.add_subplot(1,1,1) \n",
    "ax.set_xlabel('PC1', fontsize = 15)\n",
    "ax.set_ylabel('PC2', fontsize = 15)\n",
    "ax.set_title('2 component PCA', fontsize = 20)\n",
    "\n",
    "targets = np.unique(y)\n",
    "colors = ['r', 'g', 'b']\n",
    "\n",
    "for target, color in zip(targets,colors):\n",
    "    indicesToKeep = principalDf['Type'] == target\n",
    "    ax.scatter(principalDf.loc[indicesToKeep, 'PC1']\n",
    "               , principalDf.loc[indicesToKeep, 'PC2']\n",
    "               , s = 50)\n",
    "ax.legend(targets)\n",
    "ax.grid()"
   ]
  },
  {
   "cell_type": "code",
   "execution_count": 12,
   "metadata": {},
   "outputs": [
    {
     "name": "stdout",
     "output_type": "stream",
     "text": [
      "['Mock_2', 'Mock_2', 'Mock_2', 'Mock_3', 'Mock_3', 'Mock_4', 'Mock_4', 'Mock_5', 'Mock_5', 'Mock_5', 'Mock_8', 'Mock_8', 'Mock_8', 'SARS-CoV-2_2', 'SARS-CoV-2_2', 'SARS-CoV-2_2', 'SARS-CoV-2_5', 'SARS-CoV-2_5', 'SARS-CoV-2_5']\n",
      "           PC1         PC2          Type\n",
      "0   -71.979414    5.919226        Mock_2\n",
      "1    21.861854   -5.079095        Mock_2\n",
      "2    66.640114  -11.556311        Mock_2\n",
      "3   -65.600199  121.518331        Mock_3\n",
      "4   -43.512320   96.373786        Mock_3\n",
      "5   182.815074  -33.349013        Mock_4\n",
      "6    80.444838  -26.477669        Mock_4\n",
      "7   -64.783024   -5.793938        Mock_5\n",
      "8   -54.715165  -13.326921        Mock_5\n",
      "9   -44.178324  -13.210215        Mock_5\n",
      "10  259.092488   65.423744        Mock_8\n",
      "11  142.408231  -31.403449        Mock_8\n",
      "12   60.715384  -27.885767        Mock_8\n",
      "13 -108.236151    0.204838  SARS-CoV-2_2\n",
      "14  -74.602823    5.111546  SARS-CoV-2_2\n",
      "15  -30.081247   -2.151728  SARS-CoV-2_2\n",
      "16  -43.119878  -46.915904  SARS-CoV-2_5\n",
      "17  -60.478159  -46.387203  SARS-CoV-2_5\n",
      "18 -152.691281  -31.014260  SARS-CoV-2_5\n"
     ]
    },
    {
     "data": {
      "text/plain": [
       "array([0.59252857, 0.11020135])"
      ]
     },
     "execution_count": 12,
     "metadata": {},
     "output_type": "execute_result"
    }
   ],
   "source": [
    "A549_complete_data = pd.concat([A549_mock_data, A549_infected_data], axis = 1).transpose()\n",
    "raw_A549_y = A549_complete_data.index\n",
    "\n",
    "A549_complete_data = pd.DataFrame(data = StandardScaler().fit_transform(A549_complete_data), columns = A549_complete_data.columns)\n",
    "\n",
    "A549_y = []\n",
    "for t in raw_A549_y:\n",
    "    tmp = t.split('_')\n",
    "    A549_y += [tmp[2] + '_' + tmp[0][-1]]\n",
    "\n",
    "print(A549_y)\n",
    "    \n",
    "pca = PCA(n_components=2)\n",
    "\n",
    "principalComponents_A549 = pca.fit_transform(A549_complete_data)\n",
    "principalDf_A549 = pd.DataFrame(data = principalComponents_A549, columns = ['PC1', 'PC2'])\n",
    "principalDf_A549.insert(2, \"Type\", A549_y)\n",
    "\n",
    "print(principalDf_A549)\n",
    "\n",
    "pca.explained_variance_ratio_"
   ]
  },
  {
   "cell_type": "code",
   "execution_count": 13,
   "metadata": {},
   "outputs": [
    {
     "data": {
      "image/png": "[encoded data removed]",
      "text/plain": [
       "<Figure size 576x576 with 1 Axes>"
      ]
     },
     "metadata": {
      "needs_background": "light"
     },
     "output_type": "display_data"
    }
   ],
   "source": [
    "fig = plt.figure(figsize = (8,8))\n",
    "ax = fig.add_subplot(1,1,1) \n",
    "ax.set_xlabel('PC1', fontsize = 15)\n",
    "ax.set_ylabel('PC2', fontsize = 15)\n",
    "ax.set_title('2 component PCA', fontsize = 20)\n",
    "\n",
    "targets = np.unique(A549_y)\n",
    "\n",
    "for target in targets:\n",
    "    indicesToKeep = principalDf_A549['Type'] == target\n",
    "    ax.scatter(principalDf_A549.loc[indicesToKeep, 'PC1']\n",
    "               , principalDf_A549.loc[indicesToKeep, 'PC2']\n",
    "               , s = 50)\n",
    "ax.legend(targets)\n",
    "ax.grid()"
   ]
  },
  {
   "cell_type": "markdown",
   "metadata": {},
   "source": [
    "### Feature Selection"
   ]
  },
  {
   "cell_type": "code",
   "execution_count": 14,
   "metadata": {},
   "outputs": [
    {
     "name": "stdout",
     "output_type": "stream",
     "text": [
      "Removing variables with 0 variance:  4798  removed\n",
      "Removing variables with 0 variance:  21778  removed\n"
     ]
    }
   ],
   "source": [
    "from sklearn.feature_selection import VarianceThreshold\n",
    "\n",
    "NHBE_filtered_data = NHBE_complete_data.loc[:,NHBE_complete_data.apply(pd.Series.nunique) != 1]\n",
    "print(\"Removing variables with 0 variance: \", 21797 - len(NHBE_filtered_data.columns), \" removed\")\n",
    "\n",
    "A549_filtered_data = A549_complete_data.loc[:,A549_complete_data.apply(pd.Series.nunique) != 1]\n",
    "print(\"Removing variables with 0 variance: \", 21797 - len(A549_filtered_data), \" removed\")"
   ]
  },
  {
   "cell_type": "code",
   "execution_count": 15,
   "metadata": {},
   "outputs": [
    {
     "name": "stdout",
     "output_type": "stream",
     "text": [
      "[0, 0, 0, 1, 1, 1, 1, 2, 2, 2]\n"
     ]
    },
    {
     "data": {
      "text/plain": [
       "array([[-1.04126779, -0.33333333, -0.5       , ..., -0.91529056,\n",
       "        -0.33333333, -0.33333333],\n",
       "       [-0.78583747, -0.33333333, -0.5       , ..., -0.91529056,\n",
       "        -0.33333333, -0.33333333],\n",
       "       [-0.82018599, -0.33333333, -0.5       , ..., -0.91529056,\n",
       "        -0.33333333, -0.33333333],\n",
       "       ...,\n",
       "       [ 0.02300488, -0.33333333,  2.        , ...,  1.86465104,\n",
       "         3.        , -0.33333333],\n",
       "       [-1.04126779, -0.33333333, -0.5       , ...,  0.47468024,\n",
       "        -0.33333333, -0.33333333],\n",
       "       [ 1.7139883 ,  3.        ,  2.        , ...,  1.28776103,\n",
       "        -0.33333333,  3.        ]])"
      ]
     },
     "execution_count": 15,
     "metadata": {},
     "output_type": "execute_result"
    }
   ],
   "source": [
    "from sklearn.feature_selection import SelectKBest, SelectPercentile, f_regression\n",
    "\n",
    "NHBE_int_y = []\n",
    "labels = pd.unique(y)\n",
    "for t in y:\n",
    "    NHBE_int_y += [np.where(labels == t)[0][0]]\n",
    "    \n",
    "print(NHBE_int_y)\n",
    "\n",
    "SelectPercentile(f_regression, percentile=10).fit_transform(NHBE_filtered_data, NHBE_int_y)"
   ]
  },
  {
   "cell_type": "markdown",
   "metadata": {},
   "source": [
    "# Data description"
   ]
  },
  {
   "cell_type": "markdown",
   "metadata": {},
   "source": [
    "There are two main types of cells analysed, NHBE (human bronchial epithelial cells) and A549 (transformed lung alveolar cells) and one additional type, Calu3 (lung adenocarcinoma epithelial cells). There is one additional series (Series 15) with cells from a lung biopsy from both uninfected and infected patients.\n",
    "\n"
   ]
  },
  {
   "cell_type": "markdown",
   "metadata": {},
   "source": [
    "### NHBE cells"
   ]
  },
  {
   "cell_type": "code",
   "execution_count": 16,
   "metadata": {},
   "outputs": [],
   "source": [
    "NHBE_data = data[['Series1_NHBE_Mock_1', 'Series1_NHBE_Mock_2', 'Series1_NHBE_Mock_3', 'Series1_NHBE_SARS-CoV-2_1', 'Series1_NHBE_SARS-CoV-2_2', 'Series1_NHBE_SARS-CoV-2_3']]"
   ]
  },
  {
   "cell_type": "markdown",
   "metadata": {},
   "source": [
    "Firstly, we can check the standard deviation between the healthy series and between the infected series"
   ]
  },
  {
   "cell_type": "code",
   "execution_count": 17,
   "metadata": {},
   "outputs": [
    {
     "data": {
      "text/plain": [
       "(array([[2.1783e+04, 9.0000e+00, 4.0000e+00, 1.0000e+00, 0.0000e+00,\n",
       "         0.0000e+00, 0.0000e+00, 0.0000e+00, 0.0000e+00, 0.0000e+00],\n",
       "        [2.1684e+04, 7.2000e+01, 2.5000e+01, 6.0000e+00, 1.0000e+00,\n",
       "         2.0000e+00, 3.0000e+00, 1.0000e+00, 2.0000e+00, 1.0000e+00]]),\n",
       " array([     0.        ,  12091.66743271,  24183.33486543,  36275.00229814,\n",
       "         48366.66973085,  60458.33716357,  72550.00459628,  84641.67202899,\n",
       "         96733.3394617 , 108825.00689442, 120916.67432713]),\n",
       " <a list of 2 Lists of Patches objects>)"
      ]
     },
     "execution_count": 17,
     "metadata": {},
     "output_type": "execute_result"
    },
    {
     "data": {
      "image/png": "[encoded data removed]",
      "text/plain": [
       "<Figure size 1440x720 with 1 Axes>"
      ]
     },
     "metadata": {
      "needs_background": "light"
     },
     "output_type": "display_data"
    }
   ],
   "source": [
    "plt.figure(figsize=(20,10))\n",
    "plt.hist([NHBE_data[['Series1_NHBE_Mock_1', 'Series1_NHBE_Mock_2', 'Series1_NHBE_Mock_3']].std(axis = 1), NHBE_data[['Series1_NHBE_SARS-CoV-2_1', 'Series1_NHBE_SARS-CoV-2_2', 'Series1_NHBE_SARS-CoV-2_3']].std(axis = 1)])"
   ]
  },
  {
   "cell_type": "markdown",
   "metadata": {},
   "source": [
    "As we can see, the data is highly skewed (very small amount of genes account for the vast majority of the change). So we can attempt to apply a log transformation to see if it improves results"
   ]
  },
  {
   "cell_type": "code",
   "execution_count": 18,
   "metadata": {},
   "outputs": [
    {
     "ename": "KeyError",
     "evalue": "\"['Series9_NHBE_Mock_3', 'Series9_NHBE_Mock_4', 'Series9_NHBE_Mock_1', 'Series9_NHBE_Mock_2'] not in index\"",
     "output_type": "error",
     "traceback": [
      "\u001b[1;31m---------------------------------------------------------------------------\u001b[0m",
      "\u001b[1;31mKeyError\u001b[0m                                  Traceback (most recent call last)",
      "\u001b[1;32m<ipython-input-18-c8a07765261f>\u001b[0m in \u001b[0;36m<module>\u001b[1;34m\u001b[0m\n\u001b[0;32m      5\u001b[0m \u001b[1;33m\u001b[0m\u001b[0m\n\u001b[0;32m      6\u001b[0m \u001b[1;31m# Also compute the std of all healthy series\u001b[0m\u001b[1;33m\u001b[0m\u001b[1;33m\u001b[0m\u001b[1;33m\u001b[0m\u001b[0m\n\u001b[1;32m----> 7\u001b[1;33m \u001b[0mNHBE_data_log\u001b[0m\u001b[1;33m.\u001b[0m\u001b[0minsert\u001b[0m\u001b[1;33m(\u001b[0m\u001b[0mlen\u001b[0m\u001b[1;33m(\u001b[0m\u001b[0mNHBE_data_log\u001b[0m\u001b[1;33m.\u001b[0m\u001b[0mcolumns\u001b[0m\u001b[1;33m)\u001b[0m\u001b[1;33m,\u001b[0m \u001b[1;34m\"healthy_std\"\u001b[0m\u001b[1;33m,\u001b[0m \u001b[0mNHBE_data_log\u001b[0m\u001b[1;33m[\u001b[0m\u001b[0mNHBE_mock_cols\u001b[0m\u001b[1;33m]\u001b[0m\u001b[1;33m.\u001b[0m\u001b[0mstd\u001b[0m\u001b[1;33m(\u001b[0m\u001b[0maxis\u001b[0m \u001b[1;33m=\u001b[0m \u001b[1;36m1\u001b[0m\u001b[1;33m)\u001b[0m\u001b[1;33m)\u001b[0m\u001b[1;33m\u001b[0m\u001b[1;33m\u001b[0m\u001b[0m\n\u001b[0m\u001b[0;32m      8\u001b[0m \u001b[1;33m\u001b[0m\u001b[0m\n\u001b[0;32m      9\u001b[0m \u001b[0mNHBE_data_log\u001b[0m \u001b[1;33m=\u001b[0m \u001b[0mNHBE_data_log\u001b[0m\u001b[1;33m.\u001b[0m\u001b[0mloc\u001b[0m\u001b[1;33m[\u001b[0m\u001b[1;33m:\u001b[0m\u001b[1;33m,\u001b[0m \u001b[0mNHBE_data_log\u001b[0m\u001b[1;33m[\u001b[0m\u001b[1;34m\"healthy_std\"\u001b[0m\u001b[1;33m]\u001b[0m \u001b[1;33m!=\u001b[0m \u001b[1;36m0\u001b[0m\u001b[1;33m]\u001b[0m\u001b[1;33m\u001b[0m\u001b[1;33m\u001b[0m\u001b[0m\n",
      "\u001b[1;32m~\\anaconda3\\lib\\site-packages\\pandas\\core\\frame.py\u001b[0m in \u001b[0;36m__getitem__\u001b[1;34m(self, key)\u001b[0m\n\u001b[0;32m   2804\u001b[0m             \u001b[1;32mif\u001b[0m \u001b[0mis_iterator\u001b[0m\u001b[1;33m(\u001b[0m\u001b[0mkey\u001b[0m\u001b[1;33m)\u001b[0m\u001b[1;33m:\u001b[0m\u001b[1;33m\u001b[0m\u001b[1;33m\u001b[0m\u001b[0m\n\u001b[0;32m   2805\u001b[0m                 \u001b[0mkey\u001b[0m \u001b[1;33m=\u001b[0m \u001b[0mlist\u001b[0m\u001b[1;33m(\u001b[0m\u001b[0mkey\u001b[0m\u001b[1;33m)\u001b[0m\u001b[1;33m\u001b[0m\u001b[1;33m\u001b[0m\u001b[0m\n\u001b[1;32m-> 2806\u001b[1;33m             \u001b[0mindexer\u001b[0m \u001b[1;33m=\u001b[0m \u001b[0mself\u001b[0m\u001b[1;33m.\u001b[0m\u001b[0mloc\u001b[0m\u001b[1;33m.\u001b[0m\u001b[0m_get_listlike_indexer\u001b[0m\u001b[1;33m(\u001b[0m\u001b[0mkey\u001b[0m\u001b[1;33m,\u001b[0m \u001b[0maxis\u001b[0m\u001b[1;33m=\u001b[0m\u001b[1;36m1\u001b[0m\u001b[1;33m,\u001b[0m \u001b[0mraise_missing\u001b[0m\u001b[1;33m=\u001b[0m\u001b[1;32mTrue\u001b[0m\u001b[1;33m)\u001b[0m\u001b[1;33m[\u001b[0m\u001b[1;36m1\u001b[0m\u001b[1;33m]\u001b[0m\u001b[1;33m\u001b[0m\u001b[1;33m\u001b[0m\u001b[0m\n\u001b[0m\u001b[0;32m   2807\u001b[0m \u001b[1;33m\u001b[0m\u001b[0m\n\u001b[0;32m   2808\u001b[0m         \u001b[1;31m# take() does not accept boolean indexers\u001b[0m\u001b[1;33m\u001b[0m\u001b[1;33m\u001b[0m\u001b[1;33m\u001b[0m\u001b[0m\n",
      "\u001b[1;32m~\\anaconda3\\lib\\site-packages\\pandas\\core\\indexing.py\u001b[0m in \u001b[0;36m_get_listlike_indexer\u001b[1;34m(self, key, axis, raise_missing)\u001b[0m\n\u001b[0;32m   1550\u001b[0m             \u001b[0mkeyarr\u001b[0m\u001b[1;33m,\u001b[0m \u001b[0mindexer\u001b[0m\u001b[1;33m,\u001b[0m \u001b[0mnew_indexer\u001b[0m \u001b[1;33m=\u001b[0m \u001b[0max\u001b[0m\u001b[1;33m.\u001b[0m\u001b[0m_reindex_non_unique\u001b[0m\u001b[1;33m(\u001b[0m\u001b[0mkeyarr\u001b[0m\u001b[1;33m)\u001b[0m\u001b[1;33m\u001b[0m\u001b[1;33m\u001b[0m\u001b[0m\n\u001b[0;32m   1551\u001b[0m \u001b[1;33m\u001b[0m\u001b[0m\n\u001b[1;32m-> 1552\u001b[1;33m         self._validate_read_indexer(\n\u001b[0m\u001b[0;32m   1553\u001b[0m             \u001b[0mkeyarr\u001b[0m\u001b[1;33m,\u001b[0m \u001b[0mindexer\u001b[0m\u001b[1;33m,\u001b[0m \u001b[0mo\u001b[0m\u001b[1;33m.\u001b[0m\u001b[0m_get_axis_number\u001b[0m\u001b[1;33m(\u001b[0m\u001b[0maxis\u001b[0m\u001b[1;33m)\u001b[0m\u001b[1;33m,\u001b[0m \u001b[0mraise_missing\u001b[0m\u001b[1;33m=\u001b[0m\u001b[0mraise_missing\u001b[0m\u001b[1;33m\u001b[0m\u001b[1;33m\u001b[0m\u001b[0m\n\u001b[0;32m   1554\u001b[0m         )\n",
      "\u001b[1;32m~\\anaconda3\\lib\\site-packages\\pandas\\core\\indexing.py\u001b[0m in \u001b[0;36m_validate_read_indexer\u001b[1;34m(self, key, indexer, axis, raise_missing)\u001b[0m\n\u001b[0;32m   1644\u001b[0m             \u001b[1;32mif\u001b[0m \u001b[1;32mnot\u001b[0m \u001b[1;33m(\u001b[0m\u001b[0mself\u001b[0m\u001b[1;33m.\u001b[0m\u001b[0mname\u001b[0m \u001b[1;33m==\u001b[0m \u001b[1;34m\"loc\"\u001b[0m \u001b[1;32mand\u001b[0m \u001b[1;32mnot\u001b[0m \u001b[0mraise_missing\u001b[0m\u001b[1;33m)\u001b[0m\u001b[1;33m:\u001b[0m\u001b[1;33m\u001b[0m\u001b[1;33m\u001b[0m\u001b[0m\n\u001b[0;32m   1645\u001b[0m                 \u001b[0mnot_found\u001b[0m \u001b[1;33m=\u001b[0m \u001b[0mlist\u001b[0m\u001b[1;33m(\u001b[0m\u001b[0mset\u001b[0m\u001b[1;33m(\u001b[0m\u001b[0mkey\u001b[0m\u001b[1;33m)\u001b[0m \u001b[1;33m-\u001b[0m \u001b[0mset\u001b[0m\u001b[1;33m(\u001b[0m\u001b[0max\u001b[0m\u001b[1;33m)\u001b[0m\u001b[1;33m)\u001b[0m\u001b[1;33m\u001b[0m\u001b[1;33m\u001b[0m\u001b[0m\n\u001b[1;32m-> 1646\u001b[1;33m                 \u001b[1;32mraise\u001b[0m \u001b[0mKeyError\u001b[0m\u001b[1;33m(\u001b[0m\u001b[1;34mf\"{not_found} not in index\"\u001b[0m\u001b[1;33m)\u001b[0m\u001b[1;33m\u001b[0m\u001b[1;33m\u001b[0m\u001b[0m\n\u001b[0m\u001b[0;32m   1647\u001b[0m \u001b[1;33m\u001b[0m\u001b[0m\n\u001b[0;32m   1648\u001b[0m             \u001b[1;31m# we skip the warning on Categorical/Interval\u001b[0m\u001b[1;33m\u001b[0m\u001b[1;33m\u001b[0m\u001b[1;33m\u001b[0m\u001b[0m\n",
      "\u001b[1;31mKeyError\u001b[0m: \"['Series9_NHBE_Mock_3', 'Series9_NHBE_Mock_4', 'Series9_NHBE_Mock_1', 'Series9_NHBE_Mock_2'] not in index\""
     ]
    }
   ],
   "source": [
    "NHBE_data_log = np.log(NHBE_data + 1)\n",
    "\n",
    "NHBE_data_log.insert(len(NHBE_data_log.columns), \"S1_healthy_std\", NHBE_data_log[['Series1_NHBE_Mock_1', 'Series1_NHBE_Mock_2', 'Series1_NHBE_Mock_3']].std(axis = 1))\n",
    "NHBE_data_log.insert(len(NHBE_data_log.columns), \"S1_infected_std\", NHBE_data_log[['Series1_NHBE_SARS-CoV-2_1', 'Series1_NHBE_SARS-CoV-2_2', 'Series1_NHBE_SARS-CoV-2_3']].std(axis = 1))\n",
    "\n",
    "# Also compute the std of all healthy series\n",
    "NHBE_data_log.insert(len(NHBE_data_log.columns), \"healthy_std\", NHBE_data_log[NHBE_mock_cols].std(axis = 1))\n",
    "\n",
    "NHBE_data_log = NHBE_data_log.loc[:, NHBE_data_log[\"healthy_std\"] != 0]\n"
   ]
  },
  {
   "cell_type": "code",
   "execution_count": null,
   "metadata": {},
   "outputs": [],
   "source": [
    "import matplotlib.pyplot as plt\n",
    "\n",
    "bins = np.arange(0, 2, 0.2)\n",
    "\n",
    "fig, axes = plt.subplots(nrows=1, ncols=2, figsize=(12, 5))\n",
    "axes[0].hist(NHBE_data_log[\"S1_healthy_std\"], bins = bins, align = \"mid\")\n",
    "axes[0].set_title(\"Healthy Cells: Standard Deviation\")\n",
    "axes[0].set_xlabel(\"Standard Deviation\")\n",
    "axes[0].set_ylabel(\"Count\")\n",
    "axes[0].set_xticks(bins)\n",
    "\n",
    "axes[1].hist(NHBE_data_log[\"S1_infected_std\"], bins = bins)\n",
    "axes[1].set_title(\"Infected Cells: Standard Deviation\")\n",
    "axes[1].set_xlabel(\"Standard Deviation\")\n",
    "axes[1].set_ylabel(\"Count\")\n",
    "axes[1].set_xticks(bins)\n",
    "fig.tight_layout()"
   ]
  },
  {
   "cell_type": "code",
   "execution_count": null,
   "metadata": {},
   "outputs": [],
   "source": [
    "NHBE_data_log.insert(len(NHBE_data_log.columns), \"mean_healthy\", NHBE_data_log[['Series1_NHBE_Mock_1', 'Series1_NHBE_Mock_2', 'Series1_NHBE_Mock_3']].mean(axis = 1))\n",
    "NHBE_data_log.insert(len(NHBE_data_log.columns), \"mean_infected\", NHBE_data_log[['Series1_NHBE_SARS-CoV-2_1', 'Series1_NHBE_SARS-CoV-2_2', 'Series1_NHBE_SARS-CoV-2_3']].mean(axis = 1))\n",
    "NHBE_data_log.insert(len(NHBE_data_log.columns), \"mean_diff\", NHBE_data_log[\"mean_healthy\"] - NHBE_data_log[\"mean_infected\"])\n"
   ]
  },
  {
   "cell_type": "code",
   "execution_count": null,
   "metadata": {},
   "outputs": [],
   "source": [
    "px.histogram(NHBE_data_log, x = \"mean_diff\", nbins = 50).show()"
   ]
  }
 ],
 "metadata": {
  "kernelspec": {
   "display_name": "Python 3",
   "language": "python",
   "name": "python3"
  },
  "language_info": {
   "codemirror_mode": {
    "name": "ipython",
    "version": 3
   },
   "file_extension": ".py",
   "mimetype": "text/x-python",
   "name": "python",
   "nbconvert_exporter": "python",
   "pygments_lexer": "ipython3",
   "version": "3.8.3"
  }
 },
 "nbformat": 4,
 "nbformat_minor": 4
}
