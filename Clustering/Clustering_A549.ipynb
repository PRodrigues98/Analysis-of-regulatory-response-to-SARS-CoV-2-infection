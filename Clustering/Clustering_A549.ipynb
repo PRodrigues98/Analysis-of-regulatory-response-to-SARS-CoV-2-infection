{
 "cells": [
  {
   "cell_type": "code",
   "execution_count": null,
   "metadata": {},
   "outputs": [],
   "source": [
    "import sys\n",
    "sys.path.append(\"..\")\n",
    "\n",
    "import dataInterpreter as dt\n",
    "import numpy as np\n",
    "import matplotlib.pyplot as plt\n",
    "import pandas as pd\n",
    "pd.options.mode.chained_assignment = None  # default='warn'\n",
    "import scipy.cluster.hierarchy as sch\n",
    "from sklearn.cluster import AgglomerativeClustering \n",
    "from scipy.cluster.hierarchy import linkage, fcluster\n",
    "from scipy.spatial.distance import squareform\n",
    "from sklearn.metrics import adjusted_rand_score"
   ]
  },
  {
   "cell_type": "code",
   "execution_count": null,
   "metadata": {
    "scrolled": true,
    "tags": []
   },
   "outputs": [],
   "source": [
    "data = dt.get_data('A549', 'healthy', 'sars-cov2', series = (2, 5))\n",
    "columns_healthy = dt.get_columns('A549', 'healthy', series = (2, 5))\n",
    "columns_sars_cov2 = dt.get_columns('A549', 'sars-cov2', series = (2, 5))\n",
    "\n",
    "filtered_data = dt.get_p_values('mannwhitneyu', data, columns_healthy, columns_sars_cov2, limit = 0.01)\n",
    "filtered_data"
   ]
  },
  {
   "cell_type": "code",
   "execution_count": null,
   "metadata": {},
   "outputs": [],
   "source": [
    "filtered_data.drop(['p-value'], axis = 1, inplace = True)\n",
    "dt.plot_dendrogram(filtered_data)"
   ]
  },
  {
   "cell_type": "code",
   "execution_count": null,
   "metadata": {},
   "outputs": [],
   "source": [
    "labels = {}\n",
    "\n",
    "models = AgglomerativeClustering(n_clusters = 3, affinity = 'euclidean', linkage ='ward')\n",
    "labels['distance'] = models.fit_predict(filtered_data)"
   ]
  },
  {
   "cell_type": "code",
   "execution_count": null,
   "metadata": {},
   "outputs": [],
   "source": [
    "labels['distance']"
   ]
  },
  {
   "cell_type": "code",
   "execution_count": null,
   "metadata": {},
   "outputs": [],
   "source": [
    "dissimilarity = 1 - np.abs(filtered_data.T.corr())\n",
    "hierarchy = linkage(squareform(dissimilarity), method='ward')\n",
    "labels['pearson'] = fcluster(hierarchy, 3, criterion='maxclust') - 1"
   ]
  },
  {
   "cell_type": "code",
   "execution_count": null,
   "metadata": {},
   "outputs": [],
   "source": [
    "labels['pearson']"
   ]
  },
  {
   "cell_type": "code",
   "execution_count": null,
   "metadata": {},
   "outputs": [],
   "source": [
    "dissimilarity = 1 - np.abs(filtered_data.T.corr(method='spearman'))\n",
    "hierarchy = linkage(squareform(dissimilarity), method='ward')\n",
    "labels['spearman'] = fcluster(hierarchy, 3, criterion='maxclust') - 1"
   ]
  },
  {
   "cell_type": "code",
   "execution_count": null,
   "metadata": {},
   "outputs": [],
   "source": [
    "labels['spearman']"
   ]
  },
  {
   "cell_type": "code",
   "execution_count": null,
   "metadata": {},
   "outputs": [],
   "source": [
    "from itertools import groupby\n",
    "\n",
    "clusters = {}\n",
    "\n",
    "for key1, label1 in labels.items():\n",
    "    clusters[key1] = [list(map(lambda x: x[0], v)) for k,v in groupby(sorted(zip(filtered_data.index, labels['spearman']), key = lambda x: x[1]), lambda s: s[1])]\n",
    "    \n",
    "    for key2, label2 in labels.items():\n",
    "        if key1 != key2:\n",
    "            print(key1, ' vs ', key2, ': ', adjusted_rand_score(label1, label2))"
   ]
  },
  {
   "cell_type": "code",
   "execution_count": null,
   "metadata": {
    "scrolled": true,
    "tags": []
   },
   "outputs": [],
   "source": [
    "i = 0\n",
    "for c in clusters['distance']:\n",
    "    print(\"\\n\\nCluster\", i, \":\\n\")\n",
    "    i += 1\n",
    "    for x in c:\n",
    "        print(x)"
   ]
  },
  {
   "cell_type": "code",
   "execution_count": null,
   "metadata": {},
   "outputs": [],
   "source": [
    "i = 0\n",
    "for c in clusters['pearson']:\n",
    "    print(\"\\n\\nCluster\", i, \":\\n\")\n",
    "    i += 1\n",
    "    for x in c:\n",
    "        print(x)"
   ]
  },
  {
   "cell_type": "code",
   "execution_count": null,
   "metadata": {},
   "outputs": [],
   "source": [
    "i = 0\n",
    "for c in clusters['spearman']:\n",
    "    print(\"\\n\\nCluster\", i, \":\\n\")\n",
    "    i += 1\n",
    "    for x in c:\n",
    "        print(x)"
   ]
  },
  {
   "cell_type": "code",
   "execution_count": null,
   "metadata": {
    "scrolled": true,
    "tags": []
   },
   "outputs": [],
   "source": [
    "import enrichmentAnalysis as ea\n",
    "\n",
    "results_enrichment = {'distance': [], 'pearson': [], 'spearman': []}\n",
    "\n",
    "for cluster_type in clusters:\n",
    "    for cluster in clusters[cluster_type]:\n",
    "        results_enrichment[cluster_type] += [ea.getEnrichment(list(cluster), 'KEGG_2021_Human')['KEGG_2021_Human']]\n",
    "\n",
    "results_enrichment"
   ]
  },
  {
   "cell_type": "code",
   "execution_count": null,
   "metadata": {},
   "outputs": [],
   "source": [
    "import json\n",
    "\n",
    "#with open('results_A549_KEGG.json', 'w') as file:\n",
    "     #file.write(json.dumps(results_enrichment)) # use `json.loads` to do the reverse"
   ]
  },
  {
   "cell_type": "code",
   "execution_count": null,
   "metadata": {},
   "outputs": [],
   "source": [
    "import json\n",
    "\n",
    "with open('results_A549.json') as file:\n",
    "    results_enrichment = json.load(file)"
   ]
  },
  {
   "cell_type": "code",
   "execution_count": null,
   "metadata": {},
   "outputs": [],
   "source": [
    "len(enrichment_dataset[enrichment_dataset['p-value'] < 0.001].index)"
   ]
  },
  {
   "cell_type": "code",
   "execution_count": null,
   "metadata": {},
   "outputs": [],
   "source": [
    "dataset = {'p-value': [], 'Score': [], 'Cluster': [], 'Value': []}\n",
    "index = []\n",
    "\n",
    "data = dt.get_data('A549', 'healthy', 'sars-cov2', series = (2, 5))\n",
    "data.index = data.index.str.upper()\n",
    "\n",
    "columns_healthy = dt.get_columns('A549', 'healthy', series = (2, 5))\n",
    "columns_sars_cov2 = dt.get_columns('A549', 'sars-cov2', series = (2, 5))\n",
    "\n",
    "for cluster_num in range(len(results_enrichment['distance'])):\n",
    "    for term in results_enrichment['distance'][cluster_num]:\n",
    "        index += [term[1]]\n",
    "        dataset['p-value'] += [term[6]]\n",
    "        dataset['Score'] += [term[4]]\n",
    "        dataset['Cluster'] += [cluster_num]\n",
    "        \n",
    "        genes = term[5]\n",
    "        sub = data.loc[genes, columns_healthy].values - data.loc[genes, columns_sars_cov2].values\n",
    "        avg_sub = np.mean(sub, axis = 1)\n",
    "        \n",
    "        downs = 0\n",
    "        ups = 0\n",
    "        \n",
    "        for e in avg_sub:\n",
    "            if e > 0:\n",
    "                downs += 1\n",
    "            elif e < 0:\n",
    "                ups += 1\n",
    "        \n",
    "        dataset['Value'] += ['%d up, %d down' % (ups, downs)]\n",
    "        \n",
    "enrichment_dataset = pd.DataFrame(dataset, index = index)"
   ]
  },
  {
   "cell_type": "code",
   "execution_count": null,
   "metadata": {
    "tags": []
   },
   "outputs": [],
   "source": [
    "pd.set_option(\"display.max_rows\", None)\n",
    "selection = enrichment_dataset[enrichment_dataset['p-value'] < 0.01].sort_values('Score', ascending = False)\n",
    "\n",
    "selection['p-value'] = selection['p-value'].map(lambda x: '%.2E' % x)\n",
    "selection['Score'] = selection['Score'].map(lambda x: '%.2f' % x)\n",
    "\n",
    "#selection.to_csv('A549_table_with_updown.csv')\n",
    "selection"
   ]
  },
  {
   "cell_type": "code",
   "execution_count": null,
   "metadata": {},
   "outputs": [],
   "source": [
    "import requests\n",
    "\n",
    "new_index = []\n",
    "\n",
    "for item in selection.index:\n",
    "    response = requests.get(\n",
    "         'http://rest.kegg.jp/%s/%s/%s' % ('find', 'pathway', item)\n",
    "    )\n",
    "    \n",
    "    pathway = response.text.split('\\n')[0].split('\\t')[0].split(':')[1]\n",
    "    new_index += [item + ' (\\href{https://www.kegg.jp/entry/%s}{%s}' % (pathway, pathway)  + ')']\n",
    "    \n",
    "new_index"
   ]
  },
  {
   "cell_type": "code",
   "execution_count": null,
   "metadata": {},
   "outputs": [],
   "source": [
    "selection.index = new_index\n",
    "selection.to_csv('A549_table_KEGG.csv')\n",
    "selection"
   ]
  },
  {
   "cell_type": "markdown",
   "metadata": {},
   "source": [
    "## Clustering on columns"
   ]
  },
  {
   "cell_type": "code",
   "execution_count": null,
   "metadata": {},
   "outputs": [],
   "source": [
    "fig = plt.figure(figsize=(25, 10))\n",
    "dendrogram = sch.dendrogram(sch.linkage(filtered_data.T, method=\"ward\"), labels = list(['Healthy S2', 'Healthy S2', 'Healthy S2', 'SARS-CoV-2 S2', 'SARS-CoV-2 S2', 'SARS-CoV-2 S2', 'Healthy S5', 'Healthy S5', 'Healthy S5', 'SARS-CoV-2 S5', 'SARS-CoV-2 S5', 'SARS-CoV-2 S5']))\n",
    "plt.show()"
   ]
  },
  {
   "cell_type": "code",
   "execution_count": null,
   "metadata": {},
   "outputs": [],
   "source": [
    "filtered_data.columns"
   ]
  },
  {
   "cell_type": "code",
   "execution_count": null,
   "metadata": {},
   "outputs": [],
   "source": [
    "labels_columns = {}\n",
    "\n",
    "models = AgglomerativeClustering(n_clusters = 2, affinity = 'euclidean', linkage ='ward')\n",
    "labels_columns['distance'] = models.fit_predict(filtered_data.T)\n",
    "\n",
    "labels_true = [0 if col in columns_healthy else 1 for col in filtered_data.columns]\n",
    "\n",
    "print(\"True: \", labels_true)\n",
    "print(\"Predicted: \", labels_columns['distance'])\n",
    "print(adjusted_rand_score(labels_true, labels_columns['distance']))"
   ]
  },
  {
   "cell_type": "code",
   "execution_count": null,
   "metadata": {},
   "outputs": [],
   "source": []
  }
 ],
 "metadata": {
  "kernelspec": {
   "display_name": "Python 3",
   "language": "python",
   "name": "python3"
  },
  "language_info": {
   "codemirror_mode": {
    "name": "ipython",
    "version": 3
   },
   "file_extension": ".py",
   "mimetype": "text/x-python",
   "name": "python",
   "nbconvert_exporter": "python",
   "pygments_lexer": "ipython3",
   "version": "3.8.8"
  }
 },
 "nbformat": 4,
 "nbformat_minor": 4
}
